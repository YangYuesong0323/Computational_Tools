{
 "cells": [
  {
   "cell_type": "markdown",
   "metadata": {},
   "source": [
    "# Project 1: Customer Database\n",
    "**This is the first of three mandatory projects to be handed in as part of the assessment for the course 02807 Computational Tools for Data Science at Technical University of Denmark, autumn 2019.**\n",
    "\n",
    "#### Practical info\n",
    "- **The project is to be done in groups of at most 3 students**\n",
    "- **Each group has to hand in _one_ Jupyter notebook (this notebook) with their solution**\n",
    "- **The hand-in of the notebook is due 2019-10-13, 23:59 on DTU Inside**\n",
    "\n",
    "#### Your solution\n",
    "- **Your solution should be in Python**\n",
    "- **For each question you may use as many cells for your solution as you like**\n",
    "- **You should document your solution and explain the choices you've made (for example by using multiple cells and use Markdown to assist the reader of the notebook)**\n",
    "- **You should not remove the problem statements, and you should not modify the structure of the notebook**\n",
    "- **Your notebook should be runnable, i.e., clicking [>>] in Jupyter should generate the result that you want to be assessed**\n",
    "- **You are not expected to use machine learning to solve any of the exercises**\n",
    "- **You will be assessed according to correctness and readability of your code, choice of solution, choice of tools and libraries, and documentation of your solution**"
   ]
  },
  {
   "cell_type": "markdown",
   "metadata": {},
   "source": [
    "## Introduction\n",
    "Your team has been hired by the company X as data scientists. X makes gadgets for a wide range of industrial and commercial clients.\n",
    "\n",
    "As in-house data scientists, your teams first task, as per request from your new boss, is to optimize business operations. You have decided that a good first step would be to analyze the companys historical sales data to gain a better understanding of where profit is coming from. It may also reveal some low hanging fruit in terms of business opportunities.\n",
    "\n",
    "To get started, you have called the IT department to get access to the customer and sales transactions database. To your horror you've been told that such a database doens't exist, and the only record of sales transactions is kept by John from finance in an Excel spreadsheet. So you've emailed John asking for a CSV dump of the spreadsheet...\n",
    "\n",
    "In this project you need to clean the data you got from John, enrich it with further data, prepare a database for the data, and do some data analysis. The project is comprised of five parts. They are intended to be solved in the order they appear, but it is highly recommended that you read through all of them and devise an overall strategy before you start implementing anything."
   ]
  },
  {
   "cell_type": "markdown",
   "metadata": {},
   "source": [
    "## Part 1: Cleaning the data\n",
    "John has emailed you the following link to the CSV dump you requested.\n",
    "\n",
    "- [transactions.csv](https://raw.githubusercontent.com/patrickcording/02807-comp-tools/master/docker/work/data/transactions.csv)\n",
    "\n",
    "It seems as though he has been a bit sloppy when keeping the records. \n",
    "\n",
    "In this part you should:\n",
    "- Explain what the data is\n",
    "- Clean it to prepare it for inserting into a database and doing data analysis "
   ]
  },
  {
   "cell_type": "markdown",
   "metadata": {},
   "source": [
    "---\n",
    "### Solution"
   ]
  },
  {
   "cell_type": "code",
   "execution_count": 320,
   "metadata": {},
   "outputs": [],
   "source": [
    "import pandas as pd\n",
    "import numpy as np\n",
    "import re"
   ]
  },
  {
   "cell_type": "code",
   "execution_count": 321,
   "metadata": {},
   "outputs": [],
   "source": [
    "df=pd.read_csv(\"https://raw.githubusercontent.com/patrickcording/02807-comp-tools/master/docker/work/data/transactions.csv\",encoding=\"utf-8\")"
   ]
  },
  {
   "cell_type": "code",
   "execution_count": 322,
   "metadata": {},
   "outputs": [
    {
     "data": {
      "text/html": [
       "<div>\n",
       "<style scoped>\n",
       "    .dataframe tbody tr th:only-of-type {\n",
       "        vertical-align: middle;\n",
       "    }\n",
       "\n",
       "    .dataframe tbody tr th {\n",
       "        vertical-align: top;\n",
       "    }\n",
       "\n",
       "    .dataframe thead th {\n",
       "        text-align: right;\n",
       "    }\n",
       "</style>\n",
       "<table border=\"1\" class=\"dataframe\">\n",
       "  <thead>\n",
       "    <tr style=\"text-align: right;\">\n",
       "      <th></th>\n",
       "      <th>part</th>\n",
       "      <th>company</th>\n",
       "      <th>country</th>\n",
       "      <th>city</th>\n",
       "      <th>price</th>\n",
       "      <th>date</th>\n",
       "    </tr>\n",
       "  </thead>\n",
       "  <tbody>\n",
       "    <tr>\n",
       "      <th>0</th>\n",
       "      <td>54868-5165</td>\n",
       "      <td>Chatterbridge</td>\n",
       "      <td>Spain</td>\n",
       "      <td>Barcelona</td>\n",
       "      <td>784.79€</td>\n",
       "      <td>2016-01-02 00:01:05</td>\n",
       "    </tr>\n",
       "    <tr>\n",
       "      <th>1</th>\n",
       "      <td>60505-2867</td>\n",
       "      <td>Lajo</td>\n",
       "      <td>Greece</td>\n",
       "      <td>Thessaloniki</td>\n",
       "      <td>187.99€</td>\n",
       "      <td>2016-01-02 00:05:26</td>\n",
       "    </tr>\n",
       "    <tr>\n",
       "      <th>2</th>\n",
       "      <td>24385-268</td>\n",
       "      <td>Flipstorm</td>\n",
       "      <td>Greece</td>\n",
       "      <td>Athens</td>\n",
       "      <td>221.73€</td>\n",
       "      <td>2016-01-02 00:18:30</td>\n",
       "    </tr>\n",
       "    <tr>\n",
       "      <th>3</th>\n",
       "      <td>76117-001</td>\n",
       "      <td>Twitterbeat</td>\n",
       "      <td>France</td>\n",
       "      <td>Annecy</td>\n",
       "      <td>1075.82€</td>\n",
       "      <td>2016-01-02 02:32:30</td>\n",
       "    </tr>\n",
       "    <tr>\n",
       "      <th>4</th>\n",
       "      <td>44946-1046</td>\n",
       "      <td>Chatterbridge</td>\n",
       "      <td>Spain</td>\n",
       "      <td>Barcelona</td>\n",
       "      <td>412.55€</td>\n",
       "      <td>2016-01-02 04:51:55</td>\n",
       "    </tr>\n",
       "  </tbody>\n",
       "</table>\n",
       "</div>"
      ],
      "text/plain": [
       "         part        company country          city     price  \\\n",
       "0  54868-5165  Chatterbridge   Spain     Barcelona   784.79€   \n",
       "1  60505-2867           Lajo  Greece  Thessaloniki   187.99€   \n",
       "2   24385-268      Flipstorm  Greece        Athens   221.73€   \n",
       "3   76117-001    Twitterbeat  France        Annecy  1075.82€   \n",
       "4  44946-1046  Chatterbridge   Spain     Barcelona   412.55€   \n",
       "\n",
       "                  date  \n",
       "0  2016-01-02 00:01:05  \n",
       "1  2016-01-02 00:05:26  \n",
       "2  2016-01-02 00:18:30  \n",
       "3  2016-01-02 02:32:30  \n",
       "4  2016-01-02 04:51:55  "
      ]
     },
     "execution_count": 322,
     "metadata": {},
     "output_type": "execute_result"
    }
   ],
   "source": [
    "df.head()"
   ]
  },
  {
   "cell_type": "code",
   "execution_count": 323,
   "metadata": {},
   "outputs": [
    {
     "data": {
      "text/html": [
       "<div>\n",
       "<style scoped>\n",
       "    .dataframe tbody tr th:only-of-type {\n",
       "        vertical-align: middle;\n",
       "    }\n",
       "\n",
       "    .dataframe tbody tr th {\n",
       "        vertical-align: top;\n",
       "    }\n",
       "\n",
       "    .dataframe thead th {\n",
       "        text-align: right;\n",
       "    }\n",
       "</style>\n",
       "<table border=\"1\" class=\"dataframe\">\n",
       "  <thead>\n",
       "    <tr style=\"text-align: right;\">\n",
       "      <th></th>\n",
       "      <th>part</th>\n",
       "      <th>company</th>\n",
       "      <th>country</th>\n",
       "      <th>city</th>\n",
       "      <th>price</th>\n",
       "      <th>date</th>\n",
       "    </tr>\n",
       "  </thead>\n",
       "  <tbody>\n",
       "    <tr>\n",
       "      <th>count</th>\n",
       "      <td>20558</td>\n",
       "      <td>20568</td>\n",
       "      <td>18397</td>\n",
       "      <td>20535</td>\n",
       "      <td>20567</td>\n",
       "      <td>20568</td>\n",
       "    </tr>\n",
       "    <tr>\n",
       "      <th>unique</th>\n",
       "      <td>100</td>\n",
       "      <td>35</td>\n",
       "      <td>13</td>\n",
       "      <td>30</td>\n",
       "      <td>19214</td>\n",
       "      <td>20552</td>\n",
       "    </tr>\n",
       "    <tr>\n",
       "      <th>top</th>\n",
       "      <td>17156-617</td>\n",
       "      <td>Thoughtmix</td>\n",
       "      <td>Portugal</td>\n",
       "      <td>Amadora\\t</td>\n",
       "      <td>-</td>\n",
       "      <td>10/04/2017</td>\n",
       "    </tr>\n",
       "    <tr>\n",
       "      <th>freq</th>\n",
       "      <td>300</td>\n",
       "      <td>2795</td>\n",
       "      <td>7383</td>\n",
       "      <td>2787</td>\n",
       "      <td>5</td>\n",
       "      <td>7</td>\n",
       "    </tr>\n",
       "  </tbody>\n",
       "</table>\n",
       "</div>"
      ],
      "text/plain": [
       "             part     company   country       city  price        date\n",
       "count       20558       20568     18397      20535  20567       20568\n",
       "unique        100          35        13         30  19214       20552\n",
       "top     17156-617  Thoughtmix  Portugal  Amadora\\t      -  10/04/2017\n",
       "freq          300        2795      7383       2787      5           7"
      ]
     },
     "execution_count": 323,
     "metadata": {},
     "output_type": "execute_result"
    }
   ],
   "source": [
    "df.describe()"
   ]
  },
  {
   "cell_type": "code",
   "execution_count": 324,
   "metadata": {},
   "outputs": [
    {
     "data": {
      "text/plain": [
       "part       object\n",
       "company    object\n",
       "country    object\n",
       "city       object\n",
       "price      object\n",
       "date       object\n",
       "dtype: object"
      ]
     },
     "execution_count": 324,
     "metadata": {},
     "output_type": "execute_result"
    }
   ],
   "source": [
    "df.dtypes"
   ]
  },
  {
   "cell_type": "code",
   "execution_count": 325,
   "metadata": {},
   "outputs": [
    {
     "name": "stdout",
     "output_type": "stream",
     "text": [
      "Data type in part is <class 'str'>.\n",
      "Data type in company is <class 'str'>.\n",
      "Data type in country is <class 'str'>.\n",
      "Data type in city is <class 'str'>.\n",
      "Data type in price is <class 'str'>.\n",
      "Data type in date is <class 'str'>.\n"
     ]
    }
   ],
   "source": [
    "for column in df.columns:\n",
    "    print(\"Data type in {} is {}.\".format(column,type(df[column][0])))"
   ]
  },
  {
   "cell_type": "code",
   "execution_count": 326,
   "metadata": {},
   "outputs": [
    {
     "name": "stdout",
     "output_type": "stream",
     "text": [
      "False\n",
      "False\n",
      "False\n"
     ]
    }
   ],
   "source": [
    "# check for empty string\n",
    "categorical=['company','country','city']\n",
    "for column in categorical:\n",
    "    print(\"\" in df[column])"
   ]
  },
  {
   "cell_type": "code",
   "execution_count": 327,
   "metadata": {},
   "outputs": [
    {
     "name": "stdout",
     "output_type": "stream",
     "text": [
      "column part has 10 null value\n",
      "column company has 0 null value\n",
      "column country has 2171 null value\n",
      "column city has 33 null value\n",
      "column price has 1 null value\n",
      "column date has 0 null value\n"
     ]
    }
   ],
   "source": [
    "# check for NaN\n",
    "for column in df.columns:\n",
    "    print(\"column {} has {} null value\".format(column, df[column].isnull().sum().sum()))"
   ]
  },
  {
   "cell_type": "markdown",
   "metadata": {},
   "source": [
    "### part column"
   ]
  },
  {
   "cell_type": "code",
   "execution_count": 328,
   "metadata": {},
   "outputs": [
    {
     "data": {
      "text/plain": [
       "100"
      ]
     },
     "execution_count": 328,
     "metadata": {},
     "output_type": "execute_result"
    }
   ],
   "source": [
    "df.part.nunique()"
   ]
  },
  {
   "cell_type": "code",
   "execution_count": 329,
   "metadata": {
    "scrolled": true
   },
   "outputs": [
    {
     "data": {
      "text/plain": [
       "17156-617     300\n",
       "37205-992     295\n",
       "52959-433     293\n",
       "0268-6107     293\n",
       "54868-0823    292\n",
       "62011-0219    291\n",
       "51346-145     289\n",
       "13537-259     287\n",
       "58118-5060    286\n",
       "10237-832     285\n",
       "68084-172     285\n",
       "24385-268     281\n",
       "51138-049     280\n",
       "49348-574     280\n",
       "68462-565     277\n",
       "52125-136     274\n",
       "16714-295     272\n",
       "49349-106     268\n",
       "68752-024     268\n",
       "76454-100     265\n",
       "0699-7041     265\n",
       "49520-501     265\n",
       "24286-1562    265\n",
       "16729-167     264\n",
       "52343-025     263\n",
       "49967-724     262\n",
       "65044-3014    253\n",
       "0228-2167     249\n",
       "0603-6134     247\n",
       "37205-951     247\n",
       "             ... \n",
       "44946-1046    166\n",
       "68084-595     166\n",
       "67544-356     166\n",
       "60505-2867    162\n",
       "51079-947     161\n",
       "49035-530     158\n",
       "54868-6311    155\n",
       "68180-121     150\n",
       "51060-032     149\n",
       "62670-4404    148\n",
       "13537-468     148\n",
       "42254-213     141\n",
       "54973-9150    140\n",
       "0185-0373     137\n",
       "36800-952     131\n",
       "50458-560     130\n",
       "49349-314     128\n",
       "54123-957     127\n",
       "51531-9500    126\n",
       "59779-601     126\n",
       "76117-001     124\n",
       "49288-0285    124\n",
       "16477-306     117\n",
       "41167-0843    116\n",
       "49288-0655    115\n",
       "76335-006     109\n",
       "63629-2733    108\n",
       "62742-4030    103\n",
       "59779-028     101\n",
       "NaN            10\n",
       "Name: part, Length: 101, dtype: int64"
      ]
     },
     "execution_count": 329,
     "metadata": {},
     "output_type": "execute_result"
    }
   ],
   "source": [
    "df.part.value_counts(dropna = False)"
   ]
  },
  {
   "cell_type": "markdown",
   "metadata": {},
   "source": [
    "#### handle missing values in `part`"
   ]
  },
  {
   "cell_type": "code",
   "execution_count": 330,
   "metadata": {},
   "outputs": [
    {
     "data": {
      "text/html": [
       "<div>\n",
       "<style scoped>\n",
       "    .dataframe tbody tr th:only-of-type {\n",
       "        vertical-align: middle;\n",
       "    }\n",
       "\n",
       "    .dataframe tbody tr th {\n",
       "        vertical-align: top;\n",
       "    }\n",
       "\n",
       "    .dataframe thead th {\n",
       "        text-align: right;\n",
       "    }\n",
       "</style>\n",
       "<table border=\"1\" class=\"dataframe\">\n",
       "  <thead>\n",
       "    <tr style=\"text-align: right;\">\n",
       "      <th></th>\n",
       "      <th>part</th>\n",
       "      <th>company</th>\n",
       "      <th>country</th>\n",
       "      <th>city</th>\n",
       "      <th>price</th>\n",
       "      <th>date</th>\n",
       "    </tr>\n",
       "  </thead>\n",
       "  <tbody>\n",
       "    <tr>\n",
       "      <th>14916</th>\n",
       "      <td>NaN</td>\n",
       "      <td>Yozio</td>\n",
       "      <td>Greece</td>\n",
       "      <td>Patras</td>\n",
       "      <td>518.38€</td>\n",
       "      <td>2018-02-17 21:43:43</td>\n",
       "    </tr>\n",
       "    <tr>\n",
       "      <th>14917</th>\n",
       "      <td>NaN</td>\n",
       "      <td>Brainsphere</td>\n",
       "      <td>Portugal</td>\n",
       "      <td>Braga</td>\n",
       "      <td>957.24€</td>\n",
       "      <td>2018-02-17 22:12:24</td>\n",
       "    </tr>\n",
       "    <tr>\n",
       "      <th>14918</th>\n",
       "      <td>NaN</td>\n",
       "      <td>Lajo</td>\n",
       "      <td>Greece</td>\n",
       "      <td>Thessaloniki</td>\n",
       "      <td>966.06€</td>\n",
       "      <td>2018-02-17 22:54:49</td>\n",
       "    </tr>\n",
       "    <tr>\n",
       "      <th>14919</th>\n",
       "      <td>NaN</td>\n",
       "      <td>Roodel</td>\n",
       "      <td>Portugal</td>\n",
       "      <td>Aranhas</td>\n",
       "      <td>873.65€</td>\n",
       "      <td>2018-02-17 23:36:52</td>\n",
       "    </tr>\n",
       "    <tr>\n",
       "      <th>17524</th>\n",
       "      <td>NaN</td>\n",
       "      <td>Yozio</td>\n",
       "      <td>Greece</td>\n",
       "      <td>Patras</td>\n",
       "      <td>627.32€</td>\n",
       "      <td>2018-07-12 03:28:46</td>\n",
       "    </tr>\n",
       "    <tr>\n",
       "      <th>17525</th>\n",
       "      <td>NaN</td>\n",
       "      <td>Thoughtmix</td>\n",
       "      <td>Portugal</td>\n",
       "      <td>Amadora\\t</td>\n",
       "      <td>825.8€</td>\n",
       "      <td>2018-07-12 05:34:07</td>\n",
       "    </tr>\n",
       "    <tr>\n",
       "      <th>17526</th>\n",
       "      <td>NaN</td>\n",
       "      <td>Gabcube</td>\n",
       "      <td>Portugal</td>\n",
       "      <td>Almada</td>\n",
       "      <td>188.31€</td>\n",
       "      <td>2018-07-12 06:49:44</td>\n",
       "    </tr>\n",
       "    <tr>\n",
       "      <th>17527</th>\n",
       "      <td>NaN</td>\n",
       "      <td>Buzzbean</td>\n",
       "      <td>Germany</td>\n",
       "      <td>Düsseldorf</td>\n",
       "      <td>429.67€</td>\n",
       "      <td>2018-07-12 07:03:50</td>\n",
       "    </tr>\n",
       "    <tr>\n",
       "      <th>17528</th>\n",
       "      <td>NaN</td>\n",
       "      <td>Zoonder</td>\n",
       "      <td>United States</td>\n",
       "      <td>Boston</td>\n",
       "      <td>$521.72</td>\n",
       "      <td>2018-07-12 08:38:56</td>\n",
       "    </tr>\n",
       "    <tr>\n",
       "      <th>17529</th>\n",
       "      <td>NaN</td>\n",
       "      <td>Twitterbeat</td>\n",
       "      <td>France</td>\n",
       "      <td>Annecy</td>\n",
       "      <td>1031.46€</td>\n",
       "      <td>2018-07-12 09:48:17</td>\n",
       "    </tr>\n",
       "  </tbody>\n",
       "</table>\n",
       "</div>"
      ],
      "text/plain": [
       "      part      company        country          city     price  \\\n",
       "14916  NaN        Yozio         Greece        Patras   518.38€   \n",
       "14917  NaN  Brainsphere       Portugal         Braga   957.24€   \n",
       "14918  NaN         Lajo         Greece  Thessaloniki   966.06€   \n",
       "14919  NaN       Roodel       Portugal       Aranhas   873.65€   \n",
       "17524  NaN        Yozio         Greece        Patras   627.32€   \n",
       "17525  NaN   Thoughtmix       Portugal     Amadora\\t    825.8€   \n",
       "17526  NaN      Gabcube       Portugal        Almada   188.31€   \n",
       "17527  NaN     Buzzbean        Germany    Düsseldorf   429.67€   \n",
       "17528  NaN      Zoonder  United States        Boston   $521.72   \n",
       "17529  NaN  Twitterbeat         France        Annecy  1031.46€   \n",
       "\n",
       "                      date  \n",
       "14916  2018-02-17 21:43:43  \n",
       "14917  2018-02-17 22:12:24  \n",
       "14918  2018-02-17 22:54:49  \n",
       "14919  2018-02-17 23:36:52  \n",
       "17524  2018-07-12 03:28:46  \n",
       "17525  2018-07-12 05:34:07  \n",
       "17526  2018-07-12 06:49:44  \n",
       "17527  2018-07-12 07:03:50  \n",
       "17528  2018-07-12 08:38:56  \n",
       "17529  2018-07-12 09:48:17  "
      ]
     },
     "execution_count": 330,
     "metadata": {},
     "output_type": "execute_result"
    }
   ],
   "source": [
    "df[df.part.isna()]"
   ]
  },
  {
   "cell_type": "code",
   "execution_count": 331,
   "metadata": {},
   "outputs": [
    {
     "data": {
      "text/plain": [
       "0.0004861921431349669"
      ]
     },
     "execution_count": 331,
     "metadata": {},
     "output_type": "execute_result"
    }
   ],
   "source": [
    "prop_nan_part = len(df[df.part.isnull()])/len(df)\n",
    "prop_nan_part"
   ]
  },
  {
   "cell_type": "markdown",
   "metadata": {},
   "source": [
    "Since the proportion of missing values in the part column is only 0.049% of the entire dataset, we can remove the rows with missing part entries."
   ]
  },
  {
   "cell_type": "code",
   "execution_count": 332,
   "metadata": {},
   "outputs": [],
   "source": [
    "df=df.dropna(subset=['part'])"
   ]
  },
  {
   "cell_type": "code",
   "execution_count": 333,
   "metadata": {},
   "outputs": [
    {
     "data": {
      "text/html": [
       "<div>\n",
       "<style scoped>\n",
       "    .dataframe tbody tr th:only-of-type {\n",
       "        vertical-align: middle;\n",
       "    }\n",
       "\n",
       "    .dataframe tbody tr th {\n",
       "        vertical-align: top;\n",
       "    }\n",
       "\n",
       "    .dataframe thead th {\n",
       "        text-align: right;\n",
       "    }\n",
       "</style>\n",
       "<table border=\"1\" class=\"dataframe\">\n",
       "  <thead>\n",
       "    <tr style=\"text-align: right;\">\n",
       "      <th></th>\n",
       "      <th>part</th>\n",
       "      <th>company</th>\n",
       "      <th>country</th>\n",
       "      <th>city</th>\n",
       "      <th>price</th>\n",
       "      <th>date</th>\n",
       "    </tr>\n",
       "  </thead>\n",
       "  <tbody>\n",
       "  </tbody>\n",
       "</table>\n",
       "</div>"
      ],
      "text/plain": [
       "Empty DataFrame\n",
       "Columns: [part, company, country, city, price, date]\n",
       "Index: []"
      ]
     },
     "execution_count": 333,
     "metadata": {},
     "output_type": "execute_result"
    }
   ],
   "source": [
    "df[df.part.isnull()]"
   ]
  },
  {
   "cell_type": "markdown",
   "metadata": {},
   "source": [
    "### city column"
   ]
  },
  {
   "cell_type": "markdown",
   "metadata": {},
   "source": [
    "#### clean strings in `city`"
   ]
  },
  {
   "cell_type": "code",
   "execution_count": 334,
   "metadata": {},
   "outputs": [
    {
     "data": {
      "text/plain": [
       "array(['Barcelona', 'Thessaloniki', 'Athens', 'Annecy', 'Paris',\n",
       "       'Düsseldorf', 'London', 'Braga', 'Nanterre', 'Amadora\\t',\n",
       "       'New York', 'Arnhem', 'Nice', 'Lisbon', 'Amsterdam', 'Porto',\n",
       "       'Boston', 'Niihama', 'Almada', 'Aranhas', 'Heraklion', 'Amiens',\n",
       "       'Patras', 'Arcueil', 'Lyon', 'Asaka', 'Champagnole', 'Zürich', nan,\n",
       "       'Monção', 'Vila Fria'], dtype=object)"
      ]
     },
     "execution_count": 334,
     "metadata": {},
     "output_type": "execute_result"
    }
   ],
   "source": [
    "df.city.unique()"
   ]
  },
  {
   "cell_type": "markdown",
   "metadata": {},
   "source": [
    "Result from `unique()` shows that there is an additional `\\t` in the city `Amadora`. Remove the`\\t`s:"
   ]
  },
  {
   "cell_type": "code",
   "execution_count": 335,
   "metadata": {},
   "outputs": [],
   "source": [
    "df.city = df.city.str.replace(\"\\t\",\"\")"
   ]
  },
  {
   "cell_type": "code",
   "execution_count": 336,
   "metadata": {},
   "outputs": [
    {
     "data": {
      "text/plain": [
       "array(['Barcelona', 'Thessaloniki', 'Athens', 'Annecy', 'Paris',\n",
       "       'Düsseldorf', 'London', 'Braga', 'Nanterre', 'Amadora', 'New York',\n",
       "       'Arnhem', 'Nice', 'Lisbon', 'Amsterdam', 'Porto', 'Boston',\n",
       "       'Niihama', 'Almada', 'Aranhas', 'Heraklion', 'Amiens', 'Patras',\n",
       "       'Arcueil', 'Lyon', 'Asaka', 'Champagnole', 'Zürich', nan, 'Monção',\n",
       "       'Vila Fria'], dtype=object)"
      ]
     },
     "execution_count": 336,
     "metadata": {},
     "output_type": "execute_result"
    }
   ],
   "source": [
    "df.city.unique()"
   ]
  },
  {
   "cell_type": "markdown",
   "metadata": {},
   "source": [
    "#### handle missing values in `city`"
   ]
  },
  {
   "cell_type": "code",
   "execution_count": 337,
   "metadata": {
    "scrolled": true
   },
   "outputs": [
    {
     "data": {
      "text/html": [
       "<div>\n",
       "<style scoped>\n",
       "    .dataframe tbody tr th:only-of-type {\n",
       "        vertical-align: middle;\n",
       "    }\n",
       "\n",
       "    .dataframe tbody tr th {\n",
       "        vertical-align: top;\n",
       "    }\n",
       "\n",
       "    .dataframe thead th {\n",
       "        text-align: right;\n",
       "    }\n",
       "</style>\n",
       "<table border=\"1\" class=\"dataframe\">\n",
       "  <thead>\n",
       "    <tr style=\"text-align: right;\">\n",
       "      <th></th>\n",
       "      <th>part</th>\n",
       "      <th>company</th>\n",
       "      <th>country</th>\n",
       "      <th>city</th>\n",
       "      <th>price</th>\n",
       "      <th>date</th>\n",
       "    </tr>\n",
       "  </thead>\n",
       "  <tbody>\n",
       "    <tr>\n",
       "      <th>3136</th>\n",
       "      <td>68462-565</td>\n",
       "      <td>Brainsphere</td>\n",
       "      <td>Portugal</td>\n",
       "      <td>NaN</td>\n",
       "      <td>1057.85€</td>\n",
       "      <td>2016-05-20 08:59:53</td>\n",
       "    </tr>\n",
       "    <tr>\n",
       "      <th>3137</th>\n",
       "      <td>54092-515</td>\n",
       "      <td>Shufflebeat</td>\n",
       "      <td>Portugal</td>\n",
       "      <td>NaN</td>\n",
       "      <td>772.92€</td>\n",
       "      <td>2016-05-20 09:55:24</td>\n",
       "    </tr>\n",
       "    <tr>\n",
       "      <th>3138</th>\n",
       "      <td>0185-0373</td>\n",
       "      <td>Brainsphere</td>\n",
       "      <td>Portugal</td>\n",
       "      <td>NaN</td>\n",
       "      <td>1012.8€</td>\n",
       "      <td>2016-05-20 10:42:10</td>\n",
       "    </tr>\n",
       "    <tr>\n",
       "      <th>12820</th>\n",
       "      <td>50563-113</td>\n",
       "      <td>Ntags</td>\n",
       "      <td>NaN</td>\n",
       "      <td>NaN</td>\n",
       "      <td>507.49€</td>\n",
       "      <td>2017-10-20 04:03:11</td>\n",
       "    </tr>\n",
       "    <tr>\n",
       "      <th>12821</th>\n",
       "      <td>55154-5057</td>\n",
       "      <td>Brainsphere</td>\n",
       "      <td>NaN</td>\n",
       "      <td>NaN</td>\n",
       "      <td>421.64€</td>\n",
       "      <td>2017-10-20 13:23:34</td>\n",
       "    </tr>\n",
       "    <tr>\n",
       "      <th>12822</th>\n",
       "      <td>36987-1697</td>\n",
       "      <td>Ntags</td>\n",
       "      <td>NaN</td>\n",
       "      <td>NaN</td>\n",
       "      <td>937.08€</td>\n",
       "      <td>2017-10-20 18:25:00</td>\n",
       "    </tr>\n",
       "    <tr>\n",
       "      <th>12823</th>\n",
       "      <td>68462-565</td>\n",
       "      <td>Thoughtmix</td>\n",
       "      <td>NaN</td>\n",
       "      <td>NaN</td>\n",
       "      <td>777.58€</td>\n",
       "      <td>2017-10-20 21:21:18</td>\n",
       "    </tr>\n",
       "    <tr>\n",
       "      <th>12824</th>\n",
       "      <td>0603-6134</td>\n",
       "      <td>Yozio</td>\n",
       "      <td>NaN</td>\n",
       "      <td>NaN</td>\n",
       "      <td>775.05€</td>\n",
       "      <td>2017-10-20 23:17:59</td>\n",
       "    </tr>\n",
       "    <tr>\n",
       "      <th>12825</th>\n",
       "      <td>58118-5060</td>\n",
       "      <td>Yozio</td>\n",
       "      <td>NaN</td>\n",
       "      <td>NaN</td>\n",
       "      <td>157.53€</td>\n",
       "      <td>2017-10-20 23:49:53</td>\n",
       "    </tr>\n",
       "    <tr>\n",
       "      <th>12826</th>\n",
       "      <td>51060-032</td>\n",
       "      <td>Thoughtmix</td>\n",
       "      <td>NaN</td>\n",
       "      <td>NaN</td>\n",
       "      <td>176.36€</td>\n",
       "      <td>2017-10-21 00:11:55</td>\n",
       "    </tr>\n",
       "    <tr>\n",
       "      <th>12827</th>\n",
       "      <td>16714-295</td>\n",
       "      <td>Twitterbeat</td>\n",
       "      <td>NaN</td>\n",
       "      <td>NaN</td>\n",
       "      <td>348.26€</td>\n",
       "      <td>2017-10-21 01:24:52</td>\n",
       "    </tr>\n",
       "    <tr>\n",
       "      <th>12828</th>\n",
       "      <td>0603-6134</td>\n",
       "      <td>Ntags</td>\n",
       "      <td>NaN</td>\n",
       "      <td>NaN</td>\n",
       "      <td>714.66€</td>\n",
       "      <td>2017-10-21 01:53:26</td>\n",
       "    </tr>\n",
       "    <tr>\n",
       "      <th>12829</th>\n",
       "      <td>52125-136</td>\n",
       "      <td>Zooxo</td>\n",
       "      <td>NaN</td>\n",
       "      <td>NaN</td>\n",
       "      <td>£616.08</td>\n",
       "      <td>2017-10-21 04:26:42</td>\n",
       "    </tr>\n",
       "    <tr>\n",
       "      <th>12830</th>\n",
       "      <td>70253-307</td>\n",
       "      <td>Thoughtmix</td>\n",
       "      <td>NaN</td>\n",
       "      <td>NaN</td>\n",
       "      <td>880.07€</td>\n",
       "      <td>2017-10-21 06:19:34</td>\n",
       "    </tr>\n",
       "    <tr>\n",
       "      <th>12831</th>\n",
       "      <td>49967-724</td>\n",
       "      <td>Ntags</td>\n",
       "      <td>NaN</td>\n",
       "      <td>NaN</td>\n",
       "      <td>593.0€</td>\n",
       "      <td>2017-10-21 08:04:12</td>\n",
       "    </tr>\n",
       "    <tr>\n",
       "      <th>12832</th>\n",
       "      <td>54868-5165</td>\n",
       "      <td>Zoonder</td>\n",
       "      <td>NaN</td>\n",
       "      <td>NaN</td>\n",
       "      <td>$879.56</td>\n",
       "      <td>2017-10-21 09:35:27</td>\n",
       "    </tr>\n",
       "    <tr>\n",
       "      <th>12833</th>\n",
       "      <td>65044-3014</td>\n",
       "      <td>Zooxo</td>\n",
       "      <td>NaN</td>\n",
       "      <td>NaN</td>\n",
       "      <td>£738.09</td>\n",
       "      <td>2017-10-21 10:17:08</td>\n",
       "    </tr>\n",
       "    <tr>\n",
       "      <th>12834</th>\n",
       "      <td>51346-145</td>\n",
       "      <td>Brainsphere</td>\n",
       "      <td>NaN</td>\n",
       "      <td>NaN</td>\n",
       "      <td>939.35€</td>\n",
       "      <td>2017-10-21 15:06:59</td>\n",
       "    </tr>\n",
       "    <tr>\n",
       "      <th>12835</th>\n",
       "      <td>36987-1697</td>\n",
       "      <td>Wordify</td>\n",
       "      <td>NaN</td>\n",
       "      <td>NaN</td>\n",
       "      <td>$371.3</td>\n",
       "      <td>2017-10-21 15:59:29</td>\n",
       "    </tr>\n",
       "    <tr>\n",
       "      <th>12836</th>\n",
       "      <td>63629-2733</td>\n",
       "      <td>Teklist</td>\n",
       "      <td>NaN</td>\n",
       "      <td>NaN</td>\n",
       "      <td>236.48€</td>\n",
       "      <td>2017-10-21 17:14:47</td>\n",
       "    </tr>\n",
       "    <tr>\n",
       "      <th>12837</th>\n",
       "      <td>49035-530</td>\n",
       "      <td>Teklist</td>\n",
       "      <td>NaN</td>\n",
       "      <td>NaN</td>\n",
       "      <td>1160.47€</td>\n",
       "      <td>2017-10-21 22:49:57</td>\n",
       "    </tr>\n",
       "    <tr>\n",
       "      <th>12838</th>\n",
       "      <td>62670-4404</td>\n",
       "      <td>Shufflebeat</td>\n",
       "      <td>NaN</td>\n",
       "      <td>NaN</td>\n",
       "      <td>517.91€</td>\n",
       "      <td>2017-10-22 02:54:15</td>\n",
       "    </tr>\n",
       "    <tr>\n",
       "      <th>12839</th>\n",
       "      <td>0185-0373</td>\n",
       "      <td>Thoughtmix</td>\n",
       "      <td>NaN</td>\n",
       "      <td>NaN</td>\n",
       "      <td>1007.71€</td>\n",
       "      <td>2017-10-22 04:16:08</td>\n",
       "    </tr>\n",
       "    <tr>\n",
       "      <th>12840</th>\n",
       "      <td>49967-724</td>\n",
       "      <td>Thoughtmix</td>\n",
       "      <td>NaN</td>\n",
       "      <td>NaN</td>\n",
       "      <td>586.71€</td>\n",
       "      <td>2017-10-22 04:34:36</td>\n",
       "    </tr>\n",
       "    <tr>\n",
       "      <th>12841</th>\n",
       "      <td>59779-601</td>\n",
       "      <td>Ntags</td>\n",
       "      <td>NaN</td>\n",
       "      <td>NaN</td>\n",
       "      <td>171.8€</td>\n",
       "      <td>2017-10-22 05:00:42</td>\n",
       "    </tr>\n",
       "    <tr>\n",
       "      <th>12842</th>\n",
       "      <td>35356-325</td>\n",
       "      <td>Shufflebeat</td>\n",
       "      <td>NaN</td>\n",
       "      <td>NaN</td>\n",
       "      <td>436.67€</td>\n",
       "      <td>2017-10-22 05:10:16</td>\n",
       "    </tr>\n",
       "    <tr>\n",
       "      <th>12843</th>\n",
       "      <td>49349-471</td>\n",
       "      <td>Ntags</td>\n",
       "      <td>NaN</td>\n",
       "      <td>NaN</td>\n",
       "      <td>1030.42€</td>\n",
       "      <td>2017-10-22 07:11:01</td>\n",
       "    </tr>\n",
       "    <tr>\n",
       "      <th>16146</th>\n",
       "      <td>58596-001</td>\n",
       "      <td>Wordify</td>\n",
       "      <td>NaN</td>\n",
       "      <td>NaN</td>\n",
       "      <td>$492.17</td>\n",
       "      <td>2018-04-26 08:00:25</td>\n",
       "    </tr>\n",
       "    <tr>\n",
       "      <th>16147</th>\n",
       "      <td>36800-952</td>\n",
       "      <td>Thoughtmix</td>\n",
       "      <td>NaN</td>\n",
       "      <td>NaN</td>\n",
       "      <td>358.03€</td>\n",
       "      <td>2018-04-26 08:16:56</td>\n",
       "    </tr>\n",
       "    <tr>\n",
       "      <th>16148</th>\n",
       "      <td>51346-126</td>\n",
       "      <td>Kanoodle</td>\n",
       "      <td>NaN</td>\n",
       "      <td>NaN</td>\n",
       "      <td>¥15949.24</td>\n",
       "      <td>2018-04-26 16:21:00</td>\n",
       "    </tr>\n",
       "    <tr>\n",
       "      <th>16149</th>\n",
       "      <td>49348-574</td>\n",
       "      <td>Thoughtmix</td>\n",
       "      <td>NaN</td>\n",
       "      <td>NaN</td>\n",
       "      <td>295.01€</td>\n",
       "      <td>2018-04-26 19:16:45</td>\n",
       "    </tr>\n",
       "    <tr>\n",
       "      <th>16150</th>\n",
       "      <td>0228-2167</td>\n",
       "      <td>Zooxo</td>\n",
       "      <td>NaN</td>\n",
       "      <td>NaN</td>\n",
       "      <td>£682.83</td>\n",
       "      <td>2018-04-26 22:20:00</td>\n",
       "    </tr>\n",
       "    <tr>\n",
       "      <th>16151</th>\n",
       "      <td>13537-259</td>\n",
       "      <td>Thoughtmix</td>\n",
       "      <td>NaN</td>\n",
       "      <td>NaN</td>\n",
       "      <td>865.37€</td>\n",
       "      <td>2018-04-26 22:34:15</td>\n",
       "    </tr>\n",
       "  </tbody>\n",
       "</table>\n",
       "</div>"
      ],
      "text/plain": [
       "             part      company   country city      price                 date\n",
       "3136    68462-565  Brainsphere  Portugal  NaN   1057.85€  2016-05-20 08:59:53\n",
       "3137    54092-515  Shufflebeat  Portugal  NaN    772.92€  2016-05-20 09:55:24\n",
       "3138    0185-0373  Brainsphere  Portugal  NaN    1012.8€  2016-05-20 10:42:10\n",
       "12820   50563-113        Ntags       NaN  NaN    507.49€  2017-10-20 04:03:11\n",
       "12821  55154-5057  Brainsphere       NaN  NaN    421.64€  2017-10-20 13:23:34\n",
       "12822  36987-1697        Ntags       NaN  NaN    937.08€  2017-10-20 18:25:00\n",
       "12823   68462-565   Thoughtmix       NaN  NaN    777.58€  2017-10-20 21:21:18\n",
       "12824   0603-6134        Yozio       NaN  NaN    775.05€  2017-10-20 23:17:59\n",
       "12825  58118-5060        Yozio       NaN  NaN    157.53€  2017-10-20 23:49:53\n",
       "12826   51060-032   Thoughtmix       NaN  NaN    176.36€  2017-10-21 00:11:55\n",
       "12827   16714-295  Twitterbeat       NaN  NaN    348.26€  2017-10-21 01:24:52\n",
       "12828   0603-6134        Ntags       NaN  NaN    714.66€  2017-10-21 01:53:26\n",
       "12829   52125-136        Zooxo       NaN  NaN    £616.08  2017-10-21 04:26:42\n",
       "12830   70253-307   Thoughtmix       NaN  NaN    880.07€  2017-10-21 06:19:34\n",
       "12831   49967-724        Ntags       NaN  NaN     593.0€  2017-10-21 08:04:12\n",
       "12832  54868-5165      Zoonder       NaN  NaN    $879.56  2017-10-21 09:35:27\n",
       "12833  65044-3014        Zooxo       NaN  NaN    £738.09  2017-10-21 10:17:08\n",
       "12834   51346-145  Brainsphere       NaN  NaN    939.35€  2017-10-21 15:06:59\n",
       "12835  36987-1697      Wordify       NaN  NaN     $371.3  2017-10-21 15:59:29\n",
       "12836  63629-2733      Teklist       NaN  NaN    236.48€  2017-10-21 17:14:47\n",
       "12837   49035-530      Teklist       NaN  NaN   1160.47€  2017-10-21 22:49:57\n",
       "12838  62670-4404  Shufflebeat       NaN  NaN    517.91€  2017-10-22 02:54:15\n",
       "12839   0185-0373   Thoughtmix       NaN  NaN   1007.71€  2017-10-22 04:16:08\n",
       "12840   49967-724   Thoughtmix       NaN  NaN    586.71€  2017-10-22 04:34:36\n",
       "12841   59779-601        Ntags       NaN  NaN     171.8€  2017-10-22 05:00:42\n",
       "12842   35356-325  Shufflebeat       NaN  NaN    436.67€  2017-10-22 05:10:16\n",
       "12843   49349-471        Ntags       NaN  NaN   1030.42€  2017-10-22 07:11:01\n",
       "16146   58596-001      Wordify       NaN  NaN    $492.17  2018-04-26 08:00:25\n",
       "16147   36800-952   Thoughtmix       NaN  NaN    358.03€  2018-04-26 08:16:56\n",
       "16148   51346-126     Kanoodle       NaN  NaN  ¥15949.24  2018-04-26 16:21:00\n",
       "16149   49348-574   Thoughtmix       NaN  NaN    295.01€  2018-04-26 19:16:45\n",
       "16150   0228-2167        Zooxo       NaN  NaN    £682.83  2018-04-26 22:20:00\n",
       "16151   13537-259   Thoughtmix       NaN  NaN    865.37€  2018-04-26 22:34:15"
      ]
     },
     "execution_count": 337,
     "metadata": {},
     "output_type": "execute_result"
    }
   ],
   "source": [
    "df[df.city.isnull()]"
   ]
  },
  {
   "cell_type": "code",
   "execution_count": 338,
   "metadata": {},
   "outputs": [
    {
     "data": {
      "text/plain": [
       "0.001605214515030645"
      ]
     },
     "execution_count": 338,
     "metadata": {},
     "output_type": "execute_result"
    }
   ],
   "source": [
    "prop_nan_city = len(df[df.city.isnull()])/len(df)\n",
    "prop_nan_city"
   ]
  },
  {
   "cell_type": "markdown",
   "metadata": {},
   "source": [
    "Since the proportion of missing values in the city column is only 0.16% of the entire dataset, we can remove the rows with missing city entries.\n",
    "<br>\n",
    "<br>\n",
    "Moreover, the table above shows that all but three records have missing values in both country and city. This implies that dropping records that have missing values in the city column does not cause a big loss in information in the country column, since only three such country records are not null."
   ]
  },
  {
   "cell_type": "code",
   "execution_count": 339,
   "metadata": {},
   "outputs": [],
   "source": [
    "df=df.dropna(subset=['city'])"
   ]
  },
  {
   "cell_type": "code",
   "execution_count": 340,
   "metadata": {},
   "outputs": [
    {
     "data": {
      "text/html": [
       "<div>\n",
       "<style scoped>\n",
       "    .dataframe tbody tr th:only-of-type {\n",
       "        vertical-align: middle;\n",
       "    }\n",
       "\n",
       "    .dataframe tbody tr th {\n",
       "        vertical-align: top;\n",
       "    }\n",
       "\n",
       "    .dataframe thead th {\n",
       "        text-align: right;\n",
       "    }\n",
       "</style>\n",
       "<table border=\"1\" class=\"dataframe\">\n",
       "  <thead>\n",
       "    <tr style=\"text-align: right;\">\n",
       "      <th></th>\n",
       "      <th>part</th>\n",
       "      <th>company</th>\n",
       "      <th>country</th>\n",
       "      <th>city</th>\n",
       "      <th>price</th>\n",
       "      <th>date</th>\n",
       "    </tr>\n",
       "  </thead>\n",
       "  <tbody>\n",
       "  </tbody>\n",
       "</table>\n",
       "</div>"
      ],
      "text/plain": [
       "Empty DataFrame\n",
       "Columns: [part, company, country, city, price, date]\n",
       "Index: []"
      ]
     },
     "execution_count": 340,
     "metadata": {},
     "output_type": "execute_result"
    }
   ],
   "source": [
    "df[df.city.isnull()]"
   ]
  },
  {
   "cell_type": "markdown",
   "metadata": {},
   "source": [
    "### country column"
   ]
  },
  {
   "cell_type": "markdown",
   "metadata": {},
   "source": [
    "#### clean strings in `country`"
   ]
  },
  {
   "cell_type": "code",
   "execution_count": 341,
   "metadata": {},
   "outputs": [
    {
     "data": {
      "text/plain": [
       "array(['Spain', 'Greece', 'France', 'Germany', 'United Kingdom',\n",
       "       'Portugal', 'United States', 'Netherlands', 'Japan', 'Switzerland',\n",
       "       nan, 'US', 'Tyskland', 'Portuga'], dtype=object)"
      ]
     },
     "execution_count": 341,
     "metadata": {},
     "output_type": "execute_result"
    }
   ],
   "source": [
    "df.country.unique()"
   ]
  },
  {
   "cell_type": "markdown",
   "metadata": {},
   "source": [
    "From the `unique()` result, we can see that `United States` and `US` are the same and thus should be standardized. \n",
    "<br>\n",
    "Similarly, `Portugal` and `Portuga` should be standardized. \n",
    "<br>\n",
    "Additionally, `Tyskland` means `Germany` in Swedish. Thus they need to be standardized too."
   ]
  },
  {
   "cell_type": "code",
   "execution_count": 342,
   "metadata": {},
   "outputs": [],
   "source": [
    "df.country = df.country.replace('US', 'United States')\n",
    "df.country = df.country.replace('Portuga', 'Portugal')\n",
    "df.country = df.country.replace('Tyskland', 'Germany')"
   ]
  },
  {
   "cell_type": "code",
   "execution_count": 343,
   "metadata": {},
   "outputs": [
    {
     "data": {
      "text/plain": [
       "array(['Spain', 'Greece', 'France', 'Germany', 'United Kingdom',\n",
       "       'Portugal', 'United States', 'Netherlands', 'Japan', 'Switzerland',\n",
       "       nan], dtype=object)"
      ]
     },
     "execution_count": 343,
     "metadata": {},
     "output_type": "execute_result"
    }
   ],
   "source": [
    "df.country.unique()"
   ]
  },
  {
   "cell_type": "markdown",
   "metadata": {},
   "source": [
    "#### handle missing values in  `country` "
   ]
  },
  {
   "cell_type": "code",
   "execution_count": 344,
   "metadata": {
    "scrolled": true
   },
   "outputs": [
    {
     "data": {
      "text/html": [
       "<div>\n",
       "<style scoped>\n",
       "    .dataframe tbody tr th:only-of-type {\n",
       "        vertical-align: middle;\n",
       "    }\n",
       "\n",
       "    .dataframe tbody tr th {\n",
       "        vertical-align: top;\n",
       "    }\n",
       "\n",
       "    .dataframe thead th {\n",
       "        text-align: right;\n",
       "    }\n",
       "</style>\n",
       "<table border=\"1\" class=\"dataframe\">\n",
       "  <thead>\n",
       "    <tr style=\"text-align: right;\">\n",
       "      <th></th>\n",
       "      <th>part</th>\n",
       "      <th>company</th>\n",
       "      <th>country</th>\n",
       "      <th>city</th>\n",
       "      <th>price</th>\n",
       "      <th>date</th>\n",
       "    </tr>\n",
       "  </thead>\n",
       "  <tbody>\n",
       "    <tr>\n",
       "      <th>2528</th>\n",
       "      <td>52380-1102</td>\n",
       "      <td>Teklist</td>\n",
       "      <td>NaN</td>\n",
       "      <td>Arnhem</td>\n",
       "      <td>357.78</td>\n",
       "      <td>2016-04-21 04:07:31</td>\n",
       "    </tr>\n",
       "    <tr>\n",
       "      <th>2947</th>\n",
       "      <td>52125-136</td>\n",
       "      <td>Brainsphere</td>\n",
       "      <td>NaN</td>\n",
       "      <td>Braga</td>\n",
       "      <td>493.94€</td>\n",
       "      <td>2016-05-10 11:13:43</td>\n",
       "    </tr>\n",
       "    <tr>\n",
       "      <th>2956</th>\n",
       "      <td>16714-295</td>\n",
       "      <td>Teklist</td>\n",
       "      <td>NaN</td>\n",
       "      <td>Arnhem</td>\n",
       "      <td>624.4€</td>\n",
       "      <td>2016-05-10 21:57:15</td>\n",
       "    </tr>\n",
       "    <tr>\n",
       "      <th>2994</th>\n",
       "      <td>76335-006</td>\n",
       "      <td>Buzzbean</td>\n",
       "      <td>NaN</td>\n",
       "      <td>Düsseldorf</td>\n",
       "      <td>355.24€</td>\n",
       "      <td>2016-05-12 15:17:37</td>\n",
       "    </tr>\n",
       "    <tr>\n",
       "      <th>3948</th>\n",
       "      <td>54473-578</td>\n",
       "      <td>Brainsphere</td>\n",
       "      <td>NaN</td>\n",
       "      <td>Braga</td>\n",
       "      <td>123.32€</td>\n",
       "      <td>2016-07-01 01:09:40</td>\n",
       "    </tr>\n",
       "    <tr>\n",
       "      <th>3949</th>\n",
       "      <td>54973-9150</td>\n",
       "      <td>Twitterbeat</td>\n",
       "      <td>NaN</td>\n",
       "      <td>Annecy</td>\n",
       "      <td>893.86€</td>\n",
       "      <td>2016-07-01 02:59:50</td>\n",
       "    </tr>\n",
       "    <tr>\n",
       "      <th>3950</th>\n",
       "      <td>41167-0843</td>\n",
       "      <td>Brainsphere</td>\n",
       "      <td>NaN</td>\n",
       "      <td>Braga</td>\n",
       "      <td>93.93€</td>\n",
       "      <td>2016-07-01 04:03:16</td>\n",
       "    </tr>\n",
       "    <tr>\n",
       "      <th>3951</th>\n",
       "      <td>51060-032</td>\n",
       "      <td>Riffpath</td>\n",
       "      <td>NaN</td>\n",
       "      <td>Heraklion</td>\n",
       "      <td>665.09€</td>\n",
       "      <td>2016-07-01 04:56:16</td>\n",
       "    </tr>\n",
       "    <tr>\n",
       "      <th>3952</th>\n",
       "      <td>37205-951</td>\n",
       "      <td>Buzzbean</td>\n",
       "      <td>NaN</td>\n",
       "      <td>Düsseldorf</td>\n",
       "      <td>257.66€</td>\n",
       "      <td>2016-07-01 06:02:32</td>\n",
       "    </tr>\n",
       "    <tr>\n",
       "      <th>3953</th>\n",
       "      <td>37205-951</td>\n",
       "      <td>Chatterbridge</td>\n",
       "      <td>NaN</td>\n",
       "      <td>Barcelona</td>\n",
       "      <td>181.97€</td>\n",
       "      <td>2016-07-01 06:26:37</td>\n",
       "    </tr>\n",
       "    <tr>\n",
       "      <th>3954</th>\n",
       "      <td>24286-1562</td>\n",
       "      <td>Ntags</td>\n",
       "      <td>NaN</td>\n",
       "      <td>Lisbon</td>\n",
       "      <td>296.17€</td>\n",
       "      <td>2016-07-01 06:45:57</td>\n",
       "    </tr>\n",
       "    <tr>\n",
       "      <th>3955</th>\n",
       "      <td>76117-001</td>\n",
       "      <td>Twitterbeat</td>\n",
       "      <td>NaN</td>\n",
       "      <td>Annecy</td>\n",
       "      <td>769.82€</td>\n",
       "      <td>2016-07-01 07:09:36</td>\n",
       "    </tr>\n",
       "    <tr>\n",
       "      <th>3956</th>\n",
       "      <td>54473-578</td>\n",
       "      <td>Flipstorm</td>\n",
       "      <td>NaN</td>\n",
       "      <td>Athens</td>\n",
       "      <td>129.67€</td>\n",
       "      <td>2016-07-01 07:37:53</td>\n",
       "    </tr>\n",
       "    <tr>\n",
       "      <th>3957</th>\n",
       "      <td>76454-100</td>\n",
       "      <td>Buzzbean</td>\n",
       "      <td>NaN</td>\n",
       "      <td>Düsseldorf</td>\n",
       "      <td>178.24€</td>\n",
       "      <td>2016-07-01 07:40:13</td>\n",
       "    </tr>\n",
       "    <tr>\n",
       "      <th>3958</th>\n",
       "      <td>0615-7679</td>\n",
       "      <td>Flipstorm</td>\n",
       "      <td>NaN</td>\n",
       "      <td>Athens</td>\n",
       "      <td>307.67€</td>\n",
       "      <td>2016-07-01 08:05:28</td>\n",
       "    </tr>\n",
       "    <tr>\n",
       "      <th>3959</th>\n",
       "      <td>49967-724</td>\n",
       "      <td>Thoughtmix</td>\n",
       "      <td>NaN</td>\n",
       "      <td>Amadora</td>\n",
       "      <td>643.76€</td>\n",
       "      <td>2016-07-01 08:31:22</td>\n",
       "    </tr>\n",
       "    <tr>\n",
       "      <th>3960</th>\n",
       "      <td>62011-0219</td>\n",
       "      <td>Thoughtmix</td>\n",
       "      <td>NaN</td>\n",
       "      <td>Amadora</td>\n",
       "      <td>726.23€</td>\n",
       "      <td>2016-07-01 12:08:25</td>\n",
       "    </tr>\n",
       "    <tr>\n",
       "      <th>3961</th>\n",
       "      <td>48951-4042</td>\n",
       "      <td>Brainsphere</td>\n",
       "      <td>NaN</td>\n",
       "      <td>Braga</td>\n",
       "      <td>189.16€</td>\n",
       "      <td>2016-07-01 13:48:33</td>\n",
       "    </tr>\n",
       "    <tr>\n",
       "      <th>3962</th>\n",
       "      <td>51531-9500</td>\n",
       "      <td>Roodel</td>\n",
       "      <td>NaN</td>\n",
       "      <td>Aranhas</td>\n",
       "      <td>1013.72€</td>\n",
       "      <td>2016-07-01 15:39:42</td>\n",
       "    </tr>\n",
       "    <tr>\n",
       "      <th>3963</th>\n",
       "      <td>24385-268</td>\n",
       "      <td>Wordify</td>\n",
       "      <td>NaN</td>\n",
       "      <td>New York</td>\n",
       "      <td>$147.55</td>\n",
       "      <td>2016-07-01 16:13:29</td>\n",
       "    </tr>\n",
       "    <tr>\n",
       "      <th>3964</th>\n",
       "      <td>67544-356</td>\n",
       "      <td>Twitterbeat</td>\n",
       "      <td>NaN</td>\n",
       "      <td>Annecy</td>\n",
       "      <td>1258.25€</td>\n",
       "      <td>2016-07-01 19:29:53</td>\n",
       "    </tr>\n",
       "    <tr>\n",
       "      <th>3965</th>\n",
       "      <td>61398-0828</td>\n",
       "      <td>Yozio</td>\n",
       "      <td>NaN</td>\n",
       "      <td>Patras</td>\n",
       "      <td>345.68€</td>\n",
       "      <td>2016-07-01 22:16:29</td>\n",
       "    </tr>\n",
       "    <tr>\n",
       "      <th>3966</th>\n",
       "      <td>55154-5057</td>\n",
       "      <td>Eimbee</td>\n",
       "      <td>NaN</td>\n",
       "      <td>Amiens</td>\n",
       "      <td>506.63€</td>\n",
       "      <td>2016-07-01 23:47:21</td>\n",
       "    </tr>\n",
       "    <tr>\n",
       "      <th>3967</th>\n",
       "      <td>49738-105</td>\n",
       "      <td>Wordify</td>\n",
       "      <td>NaN</td>\n",
       "      <td>New York</td>\n",
       "      <td>$623.86</td>\n",
       "      <td>2016-07-02 01:08:09</td>\n",
       "    </tr>\n",
       "    <tr>\n",
       "      <th>3968</th>\n",
       "      <td>68233-011</td>\n",
       "      <td>Gabcube</td>\n",
       "      <td>NaN</td>\n",
       "      <td>Almada</td>\n",
       "      <td>128.67€</td>\n",
       "      <td>2016-07-02 02:31:40</td>\n",
       "    </tr>\n",
       "    <tr>\n",
       "      <th>3969</th>\n",
       "      <td>0603-6134</td>\n",
       "      <td>Gabcube</td>\n",
       "      <td>NaN</td>\n",
       "      <td>Almada</td>\n",
       "      <td>844.56€</td>\n",
       "      <td>2016-07-02 04:37:16</td>\n",
       "    </tr>\n",
       "    <tr>\n",
       "      <th>3970</th>\n",
       "      <td>58596-001</td>\n",
       "      <td>Buzzbean</td>\n",
       "      <td>NaN</td>\n",
       "      <td>Düsseldorf</td>\n",
       "      <td>464.65€</td>\n",
       "      <td>2016-07-02 06:11:48</td>\n",
       "    </tr>\n",
       "    <tr>\n",
       "      <th>3971</th>\n",
       "      <td>70253-307</td>\n",
       "      <td>Riffpath</td>\n",
       "      <td>NaN</td>\n",
       "      <td>Heraklion</td>\n",
       "      <td>920.78€</td>\n",
       "      <td>2016-07-02 09:53:10</td>\n",
       "    </tr>\n",
       "    <tr>\n",
       "      <th>3972</th>\n",
       "      <td>54473-578</td>\n",
       "      <td>Yozio</td>\n",
       "      <td>NaN</td>\n",
       "      <td>Patras</td>\n",
       "      <td>181.88€</td>\n",
       "      <td>2016-07-02 10:23:02</td>\n",
       "    </tr>\n",
       "    <tr>\n",
       "      <th>3973</th>\n",
       "      <td>60505-2867</td>\n",
       "      <td>Buzzbean</td>\n",
       "      <td>NaN</td>\n",
       "      <td>Düsseldorf</td>\n",
       "      <td>131.15€</td>\n",
       "      <td>2016-07-02 11:32:32</td>\n",
       "    </tr>\n",
       "    <tr>\n",
       "      <th>...</th>\n",
       "      <td>...</td>\n",
       "      <td>...</td>\n",
       "      <td>...</td>\n",
       "      <td>...</td>\n",
       "      <td>...</td>\n",
       "      <td>...</td>\n",
       "    </tr>\n",
       "    <tr>\n",
       "      <th>9970</th>\n",
       "      <td>49349-106</td>\n",
       "      <td>Lajo</td>\n",
       "      <td>NaN</td>\n",
       "      <td>Thessaloniki</td>\n",
       "      <td>613.0€</td>\n",
       "      <td>2017-05-13 11:27:15</td>\n",
       "    </tr>\n",
       "    <tr>\n",
       "      <th>9971</th>\n",
       "      <td>51138-049</td>\n",
       "      <td>Yozio</td>\n",
       "      <td>NaN</td>\n",
       "      <td>Patras</td>\n",
       "      <td>1334.79€</td>\n",
       "      <td>2017-05-13 13:33:36</td>\n",
       "    </tr>\n",
       "    <tr>\n",
       "      <th>9972</th>\n",
       "      <td>36800-952</td>\n",
       "      <td>Twitterbeat</td>\n",
       "      <td>NaN</td>\n",
       "      <td>Annecy</td>\n",
       "      <td>222.87€</td>\n",
       "      <td>2017-05-13 13:51:36</td>\n",
       "    </tr>\n",
       "    <tr>\n",
       "      <th>9973</th>\n",
       "      <td>49348-574</td>\n",
       "      <td>Yozio</td>\n",
       "      <td>NaN</td>\n",
       "      <td>Patras</td>\n",
       "      <td>403.67€</td>\n",
       "      <td>2017-05-13 14:32:37</td>\n",
       "    </tr>\n",
       "    <tr>\n",
       "      <th>9974</th>\n",
       "      <td>10267-2529</td>\n",
       "      <td>Roodel</td>\n",
       "      <td>NaN</td>\n",
       "      <td>Aranhas</td>\n",
       "      <td>382.36€</td>\n",
       "      <td>2017-05-13 16:31:35</td>\n",
       "    </tr>\n",
       "    <tr>\n",
       "      <th>9975</th>\n",
       "      <td>51346-145</td>\n",
       "      <td>Thoughtmix</td>\n",
       "      <td>NaN</td>\n",
       "      <td>Amadora</td>\n",
       "      <td>1019.75€</td>\n",
       "      <td>2017-05-13 16:58:59</td>\n",
       "    </tr>\n",
       "    <tr>\n",
       "      <th>9976</th>\n",
       "      <td>0185-0373</td>\n",
       "      <td>Buzzbean</td>\n",
       "      <td>NaN</td>\n",
       "      <td>Düsseldorf</td>\n",
       "      <td>995.42€</td>\n",
       "      <td>2017-05-14 01:07:15</td>\n",
       "    </tr>\n",
       "    <tr>\n",
       "      <th>9977</th>\n",
       "      <td>36800-952</td>\n",
       "      <td>Thoughtmix</td>\n",
       "      <td>NaN</td>\n",
       "      <td>Amadora</td>\n",
       "      <td>228.34€</td>\n",
       "      <td>2017-05-14 02:06:18</td>\n",
       "    </tr>\n",
       "    <tr>\n",
       "      <th>9978</th>\n",
       "      <td>68462-565</td>\n",
       "      <td>Ntags</td>\n",
       "      <td>NaN</td>\n",
       "      <td>Lisbon</td>\n",
       "      <td>736.98€</td>\n",
       "      <td>2017-05-14 02:15:27</td>\n",
       "    </tr>\n",
       "    <tr>\n",
       "      <th>9979</th>\n",
       "      <td>50563-113</td>\n",
       "      <td>Avaveo</td>\n",
       "      <td>NaN</td>\n",
       "      <td>Nice</td>\n",
       "      <td>248.07€</td>\n",
       "      <td>2017-05-14 04:00:50</td>\n",
       "    </tr>\n",
       "    <tr>\n",
       "      <th>9980</th>\n",
       "      <td>50458-560</td>\n",
       "      <td>Wordify</td>\n",
       "      <td>NaN</td>\n",
       "      <td>New York</td>\n",
       "      <td>$1448.13</td>\n",
       "      <td>2017-05-14 05:47:54</td>\n",
       "    </tr>\n",
       "    <tr>\n",
       "      <th>9981</th>\n",
       "      <td>0228-2167</td>\n",
       "      <td>Wordify</td>\n",
       "      <td>NaN</td>\n",
       "      <td>New York</td>\n",
       "      <td>$1316.12</td>\n",
       "      <td>2017-05-14 06:11:55</td>\n",
       "    </tr>\n",
       "    <tr>\n",
       "      <th>9982</th>\n",
       "      <td>51346-126</td>\n",
       "      <td>Twitterbeat</td>\n",
       "      <td>NaN</td>\n",
       "      <td>Annecy</td>\n",
       "      <td>151.2€</td>\n",
       "      <td>2017-05-14 07:11:42</td>\n",
       "    </tr>\n",
       "    <tr>\n",
       "      <th>9983</th>\n",
       "      <td>48951-4042</td>\n",
       "      <td>Teklist</td>\n",
       "      <td>NaN</td>\n",
       "      <td>Arnhem</td>\n",
       "      <td>199.42€</td>\n",
       "      <td>2017-05-14 08:58:33</td>\n",
       "    </tr>\n",
       "    <tr>\n",
       "      <th>9984</th>\n",
       "      <td>36987-1697</td>\n",
       "      <td>Gabtune</td>\n",
       "      <td>NaN</td>\n",
       "      <td>Lyon</td>\n",
       "      <td>1644.23€</td>\n",
       "      <td>2017-05-14 10:10:46</td>\n",
       "    </tr>\n",
       "    <tr>\n",
       "      <th>9985</th>\n",
       "      <td>49349-314</td>\n",
       "      <td>Brainsphere</td>\n",
       "      <td>NaN</td>\n",
       "      <td>Braga</td>\n",
       "      <td>495.19€</td>\n",
       "      <td>2017-05-14 11:25:03</td>\n",
       "    </tr>\n",
       "    <tr>\n",
       "      <th>9986</th>\n",
       "      <td>24286-1562</td>\n",
       "      <td>Thoughtmix</td>\n",
       "      <td>NaN</td>\n",
       "      <td>Amadora</td>\n",
       "      <td>288.32€</td>\n",
       "      <td>2017-05-14 12:40:11</td>\n",
       "    </tr>\n",
       "    <tr>\n",
       "      <th>9987</th>\n",
       "      <td>61398-0828</td>\n",
       "      <td>Shufflebeat</td>\n",
       "      <td>NaN</td>\n",
       "      <td>Porto</td>\n",
       "      <td>189.02€</td>\n",
       "      <td>2017-05-14 17:35:09</td>\n",
       "    </tr>\n",
       "    <tr>\n",
       "      <th>9988</th>\n",
       "      <td>76454-100</td>\n",
       "      <td>Thoughtmix</td>\n",
       "      <td>NaN</td>\n",
       "      <td>Amadora</td>\n",
       "      <td>143.74€</td>\n",
       "      <td>2017-05-14 19:16:07</td>\n",
       "    </tr>\n",
       "    <tr>\n",
       "      <th>9989</th>\n",
       "      <td>49738-105</td>\n",
       "      <td>Rhycero</td>\n",
       "      <td>NaN</td>\n",
       "      <td>Arcueil</td>\n",
       "      <td>622.63€</td>\n",
       "      <td>2017-05-14 21:27:49</td>\n",
       "    </tr>\n",
       "    <tr>\n",
       "      <th>9990</th>\n",
       "      <td>35356-325</td>\n",
       "      <td>Thoughtmix</td>\n",
       "      <td>NaN</td>\n",
       "      <td>Amadora</td>\n",
       "      <td>654.91€</td>\n",
       "      <td>2017-05-14 22:35:30</td>\n",
       "    </tr>\n",
       "    <tr>\n",
       "      <th>9991</th>\n",
       "      <td>54973-9150</td>\n",
       "      <td>Roodel</td>\n",
       "      <td>NaN</td>\n",
       "      <td>Aranhas</td>\n",
       "      <td>921.06€</td>\n",
       "      <td>2017-05-15 06:22:10</td>\n",
       "    </tr>\n",
       "    <tr>\n",
       "      <th>10950</th>\n",
       "      <td>49348-574</td>\n",
       "      <td>Zooxo</td>\n",
       "      <td>NaN</td>\n",
       "      <td>London</td>\n",
       "      <td>£298.74</td>\n",
       "      <td>2017-07-08 00:58:22</td>\n",
       "    </tr>\n",
       "    <tr>\n",
       "      <th>11220</th>\n",
       "      <td>67544-356</td>\n",
       "      <td>Shufflebeat</td>\n",
       "      <td>NaN</td>\n",
       "      <td>Porto</td>\n",
       "      <td>645.89€</td>\n",
       "      <td>2017-07-22 06:12:06</td>\n",
       "    </tr>\n",
       "    <tr>\n",
       "      <th>12263</th>\n",
       "      <td>37205-951</td>\n",
       "      <td>Twitterbeat</td>\n",
       "      <td>NaN</td>\n",
       "      <td>Annecy</td>\n",
       "      <td>181.36€</td>\n",
       "      <td>2017-09-17 14:58:58</td>\n",
       "    </tr>\n",
       "    <tr>\n",
       "      <th>12543</th>\n",
       "      <td>49520-501</td>\n",
       "      <td>Zooxo</td>\n",
       "      <td>NaN</td>\n",
       "      <td>London</td>\n",
       "      <td>£504.83</td>\n",
       "      <td>2017-10-03 15:59:56</td>\n",
       "    </tr>\n",
       "    <tr>\n",
       "      <th>12545</th>\n",
       "      <td>24286-1562</td>\n",
       "      <td>Zooxo</td>\n",
       "      <td>NaN</td>\n",
       "      <td>London</td>\n",
       "      <td>£175.31</td>\n",
       "      <td>2017-10-03 20:29:58</td>\n",
       "    </tr>\n",
       "    <tr>\n",
       "      <th>12978</th>\n",
       "      <td>98132-889</td>\n",
       "      <td>Gabcube</td>\n",
       "      <td>NaN</td>\n",
       "      <td>Almada</td>\n",
       "      <td>143.36€</td>\n",
       "      <td>2017-10-29 08:07:34</td>\n",
       "    </tr>\n",
       "    <tr>\n",
       "      <th>13721</th>\n",
       "      <td>49349-314</td>\n",
       "      <td>Chatterbridge</td>\n",
       "      <td>NaN</td>\n",
       "      <td>Barcelona</td>\n",
       "      <td>499.86€</td>\n",
       "      <td>2017-12-10 18:18:06</td>\n",
       "    </tr>\n",
       "    <tr>\n",
       "      <th>14438</th>\n",
       "      <td>16590-177</td>\n",
       "      <td>Shufflebeat</td>\n",
       "      <td>NaN</td>\n",
       "      <td>Porto</td>\n",
       "      <td>386.81€</td>\n",
       "      <td>2018-01-20 05:04:30</td>\n",
       "    </tr>\n",
       "  </tbody>\n",
       "</table>\n",
       "<p>2141 rows × 6 columns</p>\n",
       "</div>"
      ],
      "text/plain": [
       "             part        company country          city     price  \\\n",
       "2528   52380-1102        Teklist     NaN        Arnhem    357.78   \n",
       "2947    52125-136    Brainsphere     NaN         Braga   493.94€   \n",
       "2956    16714-295        Teklist     NaN        Arnhem    624.4€   \n",
       "2994    76335-006       Buzzbean     NaN    Düsseldorf   355.24€   \n",
       "3948    54473-578    Brainsphere     NaN         Braga   123.32€   \n",
       "3949   54973-9150    Twitterbeat     NaN        Annecy   893.86€   \n",
       "3950   41167-0843    Brainsphere     NaN         Braga    93.93€   \n",
       "3951    51060-032       Riffpath     NaN     Heraklion   665.09€   \n",
       "3952    37205-951       Buzzbean     NaN    Düsseldorf   257.66€   \n",
       "3953    37205-951  Chatterbridge     NaN     Barcelona   181.97€   \n",
       "3954   24286-1562          Ntags     NaN        Lisbon   296.17€   \n",
       "3955    76117-001    Twitterbeat     NaN        Annecy   769.82€   \n",
       "3956    54473-578      Flipstorm     NaN        Athens   129.67€   \n",
       "3957    76454-100       Buzzbean     NaN    Düsseldorf   178.24€   \n",
       "3958    0615-7679      Flipstorm     NaN        Athens   307.67€   \n",
       "3959    49967-724     Thoughtmix     NaN       Amadora   643.76€   \n",
       "3960   62011-0219     Thoughtmix     NaN       Amadora   726.23€   \n",
       "3961   48951-4042    Brainsphere     NaN         Braga   189.16€   \n",
       "3962   51531-9500         Roodel     NaN       Aranhas  1013.72€   \n",
       "3963    24385-268        Wordify     NaN      New York   $147.55   \n",
       "3964    67544-356    Twitterbeat     NaN        Annecy  1258.25€   \n",
       "3965   61398-0828          Yozio     NaN        Patras   345.68€   \n",
       "3966   55154-5057         Eimbee     NaN        Amiens   506.63€   \n",
       "3967    49738-105        Wordify     NaN      New York   $623.86   \n",
       "3968    68233-011        Gabcube     NaN        Almada   128.67€   \n",
       "3969    0603-6134        Gabcube     NaN        Almada   844.56€   \n",
       "3970    58596-001       Buzzbean     NaN    Düsseldorf   464.65€   \n",
       "3971    70253-307       Riffpath     NaN     Heraklion   920.78€   \n",
       "3972    54473-578          Yozio     NaN        Patras   181.88€   \n",
       "3973   60505-2867       Buzzbean     NaN    Düsseldorf   131.15€   \n",
       "...           ...            ...     ...           ...       ...   \n",
       "9970    49349-106           Lajo     NaN  Thessaloniki    613.0€   \n",
       "9971    51138-049          Yozio     NaN        Patras  1334.79€   \n",
       "9972    36800-952    Twitterbeat     NaN        Annecy   222.87€   \n",
       "9973    49348-574          Yozio     NaN        Patras   403.67€   \n",
       "9974   10267-2529         Roodel     NaN       Aranhas   382.36€   \n",
       "9975    51346-145     Thoughtmix     NaN       Amadora  1019.75€   \n",
       "9976    0185-0373       Buzzbean     NaN    Düsseldorf   995.42€   \n",
       "9977    36800-952     Thoughtmix     NaN       Amadora   228.34€   \n",
       "9978    68462-565          Ntags     NaN        Lisbon   736.98€   \n",
       "9979    50563-113         Avaveo     NaN          Nice   248.07€   \n",
       "9980    50458-560        Wordify     NaN      New York  $1448.13   \n",
       "9981    0228-2167        Wordify     NaN      New York  $1316.12   \n",
       "9982    51346-126    Twitterbeat     NaN        Annecy    151.2€   \n",
       "9983   48951-4042        Teklist     NaN        Arnhem   199.42€   \n",
       "9984   36987-1697        Gabtune     NaN          Lyon  1644.23€   \n",
       "9985    49349-314    Brainsphere     NaN         Braga   495.19€   \n",
       "9986   24286-1562     Thoughtmix     NaN       Amadora   288.32€   \n",
       "9987   61398-0828    Shufflebeat     NaN         Porto   189.02€   \n",
       "9988    76454-100     Thoughtmix     NaN       Amadora   143.74€   \n",
       "9989    49738-105        Rhycero     NaN       Arcueil   622.63€   \n",
       "9990    35356-325     Thoughtmix     NaN       Amadora   654.91€   \n",
       "9991   54973-9150         Roodel     NaN       Aranhas   921.06€   \n",
       "10950   49348-574          Zooxo     NaN        London   £298.74   \n",
       "11220   67544-356    Shufflebeat     NaN         Porto   645.89€   \n",
       "12263   37205-951    Twitterbeat     NaN        Annecy   181.36€   \n",
       "12543   49520-501          Zooxo     NaN        London   £504.83   \n",
       "12545  24286-1562          Zooxo     NaN        London   £175.31   \n",
       "12978   98132-889        Gabcube     NaN        Almada   143.36€   \n",
       "13721   49349-314  Chatterbridge     NaN     Barcelona   499.86€   \n",
       "14438   16590-177    Shufflebeat     NaN         Porto   386.81€   \n",
       "\n",
       "                      date  \n",
       "2528   2016-04-21 04:07:31  \n",
       "2947   2016-05-10 11:13:43  \n",
       "2956   2016-05-10 21:57:15  \n",
       "2994   2016-05-12 15:17:37  \n",
       "3948   2016-07-01 01:09:40  \n",
       "3949   2016-07-01 02:59:50  \n",
       "3950   2016-07-01 04:03:16  \n",
       "3951   2016-07-01 04:56:16  \n",
       "3952   2016-07-01 06:02:32  \n",
       "3953   2016-07-01 06:26:37  \n",
       "3954   2016-07-01 06:45:57  \n",
       "3955   2016-07-01 07:09:36  \n",
       "3956   2016-07-01 07:37:53  \n",
       "3957   2016-07-01 07:40:13  \n",
       "3958   2016-07-01 08:05:28  \n",
       "3959   2016-07-01 08:31:22  \n",
       "3960   2016-07-01 12:08:25  \n",
       "3961   2016-07-01 13:48:33  \n",
       "3962   2016-07-01 15:39:42  \n",
       "3963   2016-07-01 16:13:29  \n",
       "3964   2016-07-01 19:29:53  \n",
       "3965   2016-07-01 22:16:29  \n",
       "3966   2016-07-01 23:47:21  \n",
       "3967   2016-07-02 01:08:09  \n",
       "3968   2016-07-02 02:31:40  \n",
       "3969   2016-07-02 04:37:16  \n",
       "3970   2016-07-02 06:11:48  \n",
       "3971   2016-07-02 09:53:10  \n",
       "3972   2016-07-02 10:23:02  \n",
       "3973   2016-07-02 11:32:32  \n",
       "...                    ...  \n",
       "9970   2017-05-13 11:27:15  \n",
       "9971   2017-05-13 13:33:36  \n",
       "9972   2017-05-13 13:51:36  \n",
       "9973   2017-05-13 14:32:37  \n",
       "9974   2017-05-13 16:31:35  \n",
       "9975   2017-05-13 16:58:59  \n",
       "9976   2017-05-14 01:07:15  \n",
       "9977   2017-05-14 02:06:18  \n",
       "9978   2017-05-14 02:15:27  \n",
       "9979   2017-05-14 04:00:50  \n",
       "9980   2017-05-14 05:47:54  \n",
       "9981   2017-05-14 06:11:55  \n",
       "9982   2017-05-14 07:11:42  \n",
       "9983   2017-05-14 08:58:33  \n",
       "9984   2017-05-14 10:10:46  \n",
       "9985   2017-05-14 11:25:03  \n",
       "9986   2017-05-14 12:40:11  \n",
       "9987   2017-05-14 17:35:09  \n",
       "9988   2017-05-14 19:16:07  \n",
       "9989   2017-05-14 21:27:49  \n",
       "9990   2017-05-14 22:35:30  \n",
       "9991   2017-05-15 06:22:10  \n",
       "10950  2017-07-08 00:58:22  \n",
       "11220  2017-07-22 06:12:06  \n",
       "12263  2017-09-17 14:58:58  \n",
       "12543  2017-10-03 15:59:56  \n",
       "12545  2017-10-03 20:29:58  \n",
       "12978  2017-10-29 08:07:34  \n",
       "13721  2017-12-10 18:18:06  \n",
       "14438  2018-01-20 05:04:30  \n",
       "\n",
       "[2141 rows x 6 columns]"
      ]
     },
     "execution_count": 344,
     "metadata": {},
     "output_type": "execute_result"
    }
   ],
   "source": [
    "df[df.country.isnull()]"
   ]
  },
  {
   "cell_type": "code",
   "execution_count": 345,
   "metadata": {},
   "outputs": [
    {
     "data": {
      "text/plain": [
       "0.10431181485992692"
      ]
     },
     "execution_count": 345,
     "metadata": {},
     "output_type": "execute_result"
    }
   ],
   "source": [
    "prop_nan_country = len(df[df.country.isnull()])/len(df)\n",
    "prop_nan_country"
   ]
  },
  {
   "cell_type": "markdown",
   "metadata": {},
   "source": [
    "Since the fraction of missing values in the country column is 10.43% of the entire dataset which is considerably large, we cannot simply remove the rows with missing countries entries as doing so will result in much information being lost.\n",
    "<br>\n",
    "<br>\n",
    "Instead, we can deduce some of the country names from their corresponding cities."
   ]
  },
  {
   "cell_type": "code",
   "execution_count": 346,
   "metadata": {
    "scrolled": true
   },
   "outputs": [
    {
     "data": {
      "text/plain": [
       "city          country       \n",
       "Almada        Portugal           323\n",
       "              NaN                 33\n",
       "Amadora       Portugal          2511\n",
       "              NaN                275\n",
       "Amiens        France             452\n",
       "              NaN                 46\n",
       "Amsterdam     Netherlands         40\n",
       "              NaN                  4\n",
       "Annecy        France            2037\n",
       "              NaN                229\n",
       "Aranhas       Portugal           553\n",
       "              NaN                 73\n",
       "Arcueil       France             180\n",
       "              NaN                 24\n",
       "Arnhem        Netherlands        387\n",
       "              NaN                 39\n",
       "Asaka         Japan               47\n",
       "              NaN                  7\n",
       "Athens        Greece             713\n",
       "              NaN                 99\n",
       "Barcelona     Spain             1425\n",
       "              NaN                164\n",
       "Boston        United States      398\n",
       "              NaN                 55\n",
       "Braga         Portugal          1114\n",
       "              NaN                122\n",
       "Champagnole   France              35\n",
       "              NaN                  1\n",
       "Düsseldorf    Germany           1125\n",
       "              NaN                128\n",
       "Heraklion     Greece             130\n",
       "              NaN                 21\n",
       "Lisbon        Portugal          1496\n",
       "              NaN                171\n",
       "London        United Kingdom    1511\n",
       "              NaN                158\n",
       "Lyon          France              24\n",
       "              NaN                  3\n",
       "Monção        Portugal             1\n",
       "Nanterre      France             332\n",
       "              NaN                 49\n",
       "New York      United States      858\n",
       "              NaN                110\n",
       "Nice          France             182\n",
       "              NaN                 30\n",
       "Niihama       Japan              112\n",
       "              NaN                 14\n",
       "Paris         France             220\n",
       "              NaN                 30\n",
       "Patras        Greece             583\n",
       "              NaN                 68\n",
       "Porto         Portugal          1382\n",
       "              NaN                168\n",
       "Thessaloniki  Greece             201\n",
       "              NaN                 19\n",
       "Vila Fria     Portugal             1\n",
       "Zürich        Switzerland         11\n",
       "              NaN                  1\n",
       "Name: country, dtype: int64"
      ]
     },
     "execution_count": 346,
     "metadata": {},
     "output_type": "execute_result"
    }
   ],
   "source": [
    "df.groupby(['city'])['country'].value_counts(dropna = False)"
   ]
  },
  {
   "cell_type": "code",
   "execution_count": 347,
   "metadata": {},
   "outputs": [
    {
     "data": {
      "text/plain": [
       "{'Almada': 'Portugal',\n",
       " 'Amadora': 'Portugal',\n",
       " 'Amiens': 'France',\n",
       " 'Amsterdam': 'Netherlands',\n",
       " 'Annecy': 'France',\n",
       " 'Aranhas': 'Portugal',\n",
       " 'Arcueil': 'France',\n",
       " 'Arnhem': 'Netherlands',\n",
       " 'Asaka': 'Japan',\n",
       " 'Athens': 'Greece',\n",
       " 'Barcelona': 'Spain',\n",
       " 'Boston': 'United States',\n",
       " 'Braga': 'Portugal',\n",
       " 'Champagnole': 'France',\n",
       " 'Düsseldorf': 'Germany',\n",
       " 'Heraklion': 'Greece',\n",
       " 'Lisbon': 'Portugal',\n",
       " 'London': 'United Kingdom',\n",
       " 'Lyon': 'France',\n",
       " 'Monção': 'Portugal',\n",
       " 'Nanterre': 'France',\n",
       " 'New York': 'United States',\n",
       " 'Nice': 'France',\n",
       " 'Niihama': 'Japan',\n",
       " 'Paris': 'France',\n",
       " 'Patras': 'Greece',\n",
       " 'Porto': 'Portugal',\n",
       " 'Thessaloniki': 'Greece',\n",
       " 'Vila Fria': 'Portugal',\n",
       " 'Zürich': 'Switzerland'}"
      ]
     },
     "execution_count": 347,
     "metadata": {},
     "output_type": "execute_result"
    }
   ],
   "source": [
    "city_country_mapping = df.groupby(['city'])['country'].apply(lambda grp: list(grp.value_counts().index)[0]).to_dict()\n",
    "city_country_mapping"
   ]
  },
  {
   "cell_type": "code",
   "execution_count": 348,
   "metadata": {},
   "outputs": [
    {
     "data": {
      "text/plain": [
       "Int64Index([ 2528,  2947,  2956,  2994,  3948,  3949,  3950,  3951,  3952,\n",
       "             3953,\n",
       "            ...\n",
       "             9990,  9991, 10950, 11220, 12263, 12543, 12545, 12978, 13721,\n",
       "            14438],\n",
       "           dtype='int64', length=2141)"
      ]
     },
     "execution_count": 348,
     "metadata": {},
     "output_type": "execute_result"
    }
   ],
   "source": [
    "df[df.country.isnull()].index"
   ]
  },
  {
   "cell_type": "code",
   "execution_count": 349,
   "metadata": {},
   "outputs": [],
   "source": [
    "def impute_countries(row):\n",
    "    return city_country_mapping[row.city]"
   ]
  },
  {
   "cell_type": "code",
   "execution_count": 350,
   "metadata": {},
   "outputs": [],
   "source": [
    "df.country = df.apply(impute_countries, axis = 1)"
   ]
  },
  {
   "cell_type": "code",
   "execution_count": 351,
   "metadata": {},
   "outputs": [
    {
     "data": {
      "text/html": [
       "<div>\n",
       "<style scoped>\n",
       "    .dataframe tbody tr th:only-of-type {\n",
       "        vertical-align: middle;\n",
       "    }\n",
       "\n",
       "    .dataframe tbody tr th {\n",
       "        vertical-align: top;\n",
       "    }\n",
       "\n",
       "    .dataframe thead th {\n",
       "        text-align: right;\n",
       "    }\n",
       "</style>\n",
       "<table border=\"1\" class=\"dataframe\">\n",
       "  <thead>\n",
       "    <tr style=\"text-align: right;\">\n",
       "      <th></th>\n",
       "      <th>part</th>\n",
       "      <th>company</th>\n",
       "      <th>country</th>\n",
       "      <th>city</th>\n",
       "      <th>price</th>\n",
       "      <th>date</th>\n",
       "    </tr>\n",
       "  </thead>\n",
       "  <tbody>\n",
       "  </tbody>\n",
       "</table>\n",
       "</div>"
      ],
      "text/plain": [
       "Empty DataFrame\n",
       "Columns: [part, company, country, city, price, date]\n",
       "Index: []"
      ]
     },
     "execution_count": 351,
     "metadata": {},
     "output_type": "execute_result"
    }
   ],
   "source": [
    "df[df.country.isna()]"
   ]
  },
  {
   "cell_type": "markdown",
   "metadata": {},
   "source": [
    "### company column"
   ]
  },
  {
   "cell_type": "markdown",
   "metadata": {},
   "source": [
    "#### clean strings in `company`"
   ]
  },
  {
   "cell_type": "code",
   "execution_count": 352,
   "metadata": {},
   "outputs": [
    {
     "data": {
      "text/plain": [
       "array(['Chatterbridge', 'Lajo', 'Flipstorm', 'Twitterbeat', 'Voomm',\n",
       "       'Buzzbean', 'Zooxo', 'Brainsphere', 'Thoughtmix', 'Wordify',\n",
       "       'Teklist', 'Avaveo', 'Ntags', 'Innojam', 'Shufflebeat', 'Zoonder',\n",
       "       'Kanoodle', 'Gabcube', 'Roodel', 'Riffpath', 'Eimbee', 'Yozio',\n",
       "       'Rhycero', 'Realpoint', 'Gabtune', 'Bubblemix', 'Gevee', 'Tagtune',\n",
       "       'Zooxo.', 'Laj0', 'Ntagz', ' -', ' a', 'aa', 'Thoughtmixz'],\n",
       "      dtype=object)"
      ]
     },
     "execution_count": 352,
     "metadata": {},
     "output_type": "execute_result"
    }
   ],
   "source": [
    "df.company.unique()"
   ]
  },
  {
   "cell_type": "code",
   "execution_count": 353,
   "metadata": {},
   "outputs": [
    {
     "data": {
      "text/plain": [
       "Thoughtmix       2786\n",
       "Twitterbeat      2266\n",
       "Zooxo            1667\n",
       "Chatterbridge    1589\n",
       "Shufflebeat      1550\n",
       "Ntags            1508\n",
       "Buzzbean         1253\n",
       "Brainsphere      1237\n",
       "Flipstorm        1193\n",
       "Wordify           966\n",
       "Yozio             651\n",
       "Roodel            626\n",
       "Eimbee            498\n",
       "Zoonder           452\n",
       "Teklist           426\n",
       "Gabcube           356\n",
       "Voomm             250\n",
       "Lajo              219\n",
       "Avaveo            212\n",
       "Rhycero           204\n",
       "Realpoint         158\n",
       "Riffpath          151\n",
       "Kanoodle          126\n",
       "Bubblemix          54\n",
       "Innojam            44\n",
       "Gevee              36\n",
       "Gabtune            27\n",
       "Tagtune            12\n",
       "Zooxo.              2\n",
       "Laj0                1\n",
       "Thoughtmixz         1\n",
       " a                  1\n",
       "aa                  1\n",
       "Ntagz               1\n",
       " -                  1\n",
       "Name: company, dtype: int64"
      ]
     },
     "execution_count": 353,
     "metadata": {},
     "output_type": "execute_result"
    }
   ],
   "source": [
    "df.company.value_counts(dropna=False)"
   ]
  },
  {
   "cell_type": "markdown",
   "metadata": {},
   "source": [
    "From the above result, it can be seen that some erroneous company names/poorly formatted company names. These include:\n",
    "* ` a`,`aa`,` -` each has occurred once in the dataset. They are likely to be the erroneous entries. Simply remove them.\n",
    "* `Laj0` should be standardized to `Lajo`. Likewise, `Zooxo.` should be standardized to `Zooxo`."
   ]
  },
  {
   "cell_type": "code",
   "execution_count": 354,
   "metadata": {},
   "outputs": [],
   "source": [
    "df.company = df.company.replace([' a','aa',' -'], '')\n",
    "df=df[df.company != '']"
   ]
  },
  {
   "cell_type": "code",
   "execution_count": 355,
   "metadata": {},
   "outputs": [],
   "source": [
    "df.company = df.company.replace('Zooxo.','Zooxo')\n",
    "df.company = df.company.replace('Laj0','Lajo')"
   ]
  },
  {
   "cell_type": "code",
   "execution_count": 356,
   "metadata": {},
   "outputs": [
    {
     "data": {
      "text/plain": [
       "Thoughtmix       2786\n",
       "Twitterbeat      2266\n",
       "Zooxo            1669\n",
       "Chatterbridge    1589\n",
       "Shufflebeat      1550\n",
       "Ntags            1508\n",
       "Buzzbean         1253\n",
       "Brainsphere      1237\n",
       "Flipstorm        1193\n",
       "Wordify           966\n",
       "Yozio             651\n",
       "Roodel            626\n",
       "Eimbee            498\n",
       "Zoonder           452\n",
       "Teklist           426\n",
       "Gabcube           356\n",
       "Voomm             250\n",
       "Lajo              220\n",
       "Avaveo            212\n",
       "Rhycero           204\n",
       "Realpoint         158\n",
       "Riffpath          151\n",
       "Kanoodle          126\n",
       "Bubblemix          54\n",
       "Innojam            44\n",
       "Gevee              36\n",
       "Gabtune            27\n",
       "Tagtune            12\n",
       "Thoughtmixz         1\n",
       "Ntagz               1\n",
       "Name: company, dtype: int64"
      ]
     },
     "execution_count": 356,
     "metadata": {},
     "output_type": "execute_result"
    }
   ],
   "source": [
    "df.company.value_counts(dropna=False)"
   ]
  },
  {
   "cell_type": "markdown",
   "metadata": {},
   "source": [
    "### date column"
   ]
  },
  {
   "cell_type": "code",
   "execution_count": 357,
   "metadata": {},
   "outputs": [],
   "source": [
    "# string to datetime object\n",
    "df['parsed_date'] = pd.to_datetime(df['date'],errors='coerce', infer_datetime_format=True)"
   ]
  },
  {
   "cell_type": "code",
   "execution_count": 358,
   "metadata": {},
   "outputs": [
    {
     "data": {
      "text/html": [
       "<div>\n",
       "<style scoped>\n",
       "    .dataframe tbody tr th:only-of-type {\n",
       "        vertical-align: middle;\n",
       "    }\n",
       "\n",
       "    .dataframe tbody tr th {\n",
       "        vertical-align: top;\n",
       "    }\n",
       "\n",
       "    .dataframe thead th {\n",
       "        text-align: right;\n",
       "    }\n",
       "</style>\n",
       "<table border=\"1\" class=\"dataframe\">\n",
       "  <thead>\n",
       "    <tr style=\"text-align: right;\">\n",
       "      <th></th>\n",
       "      <th>part</th>\n",
       "      <th>company</th>\n",
       "      <th>country</th>\n",
       "      <th>city</th>\n",
       "      <th>price</th>\n",
       "      <th>date</th>\n",
       "      <th>parsed_date</th>\n",
       "    </tr>\n",
       "  </thead>\n",
       "  <tbody>\n",
       "    <tr>\n",
       "      <th>3539</th>\n",
       "      <td>17156-617</td>\n",
       "      <td>Thoughtmix</td>\n",
       "      <td>Portugal</td>\n",
       "      <td>Amadora</td>\n",
       "      <td>791.86€</td>\n",
       "      <td>2016-06-32 07:22:28</td>\n",
       "      <td>NaT</td>\n",
       "    </tr>\n",
       "    <tr>\n",
       "      <th>3540</th>\n",
       "      <td>54868-5165</td>\n",
       "      <td>Shufflebeat</td>\n",
       "      <td>Portugal</td>\n",
       "      <td>Porto</td>\n",
       "      <td>525.24€</td>\n",
       "      <td>2016-06-32 08:08:48</td>\n",
       "      <td>NaT</td>\n",
       "    </tr>\n",
       "  </tbody>\n",
       "</table>\n",
       "</div>"
      ],
      "text/plain": [
       "            part      company   country     city    price  \\\n",
       "3539   17156-617   Thoughtmix  Portugal  Amadora  791.86€   \n",
       "3540  54868-5165  Shufflebeat  Portugal    Porto  525.24€   \n",
       "\n",
       "                     date parsed_date  \n",
       "3539  2016-06-32 07:22:28         NaT  \n",
       "3540  2016-06-32 08:08:48         NaT  "
      ]
     },
     "execution_count": 358,
     "metadata": {},
     "output_type": "execute_result"
    }
   ],
   "source": [
    "# checking\n",
    "df[df.parsed_date.isnull()]"
   ]
  },
  {
   "cell_type": "code",
   "execution_count": 359,
   "metadata": {},
   "outputs": [],
   "source": [
    "df = df.dropna()"
   ]
  },
  {
   "cell_type": "markdown",
   "metadata": {},
   "source": [
    "### price column"
   ]
  },
  {
   "cell_type": "code",
   "execution_count": 360,
   "metadata": {},
   "outputs": [
    {
     "data": {
      "text/plain": [
       "array(['$', '-', '.', 'a', 'd', 'i', 'n', 'o', 'v', '£', '¥', '€'],\n",
       "      dtype='<U1')"
      ]
     },
     "execution_count": 360,
     "metadata": {},
     "output_type": "execute_result"
    }
   ],
   "source": [
    "# original intention was to find all currency signs present\n",
    "# but it turned out that there are other poorly formatted cells other than currency signs\n",
    "res=[]\n",
    "for p in df.price:\n",
    "    for c in p:\n",
    "        if c.isdigit() == False:\n",
    "            res.append(c)\n",
    "x=np.array(res)\n",
    "np.unique(x)"
   ]
  },
  {
   "cell_type": "code",
   "execution_count": 361,
   "metadata": {},
   "outputs": [
    {
     "name": "stdout",
     "output_type": "stream",
     "text": [
      "void\n",
      "void\n",
      "na\n",
      "na\n",
      "na\n"
     ]
    }
   ],
   "source": [
    "# find what are those cells\n",
    "res=[]\n",
    "for p in df.price:\n",
    "    for c in p:\n",
    "        if c in ['a', 'd', 'i', 'n', 'o', 'v']:\n",
    "            print(p)\n",
    "            break"
   ]
  },
  {
   "cell_type": "code",
   "execution_count": 362,
   "metadata": {},
   "outputs": [
    {
     "name": "stdout",
     "output_type": "stream",
     "text": [
      "20519\n",
      "20514\n"
     ]
    }
   ],
   "source": [
    "print(len(df))\n",
    "df=df[df.price != 'void']\n",
    "df=df[df.price != 'na']\n",
    "print(len(df))"
   ]
  },
  {
   "cell_type": "code",
   "execution_count": 363,
   "metadata": {},
   "outputs": [],
   "source": [
    "def parse_price(string):\n",
    "    amount=re.match(r'([^-\\d\\.]?)(-?\\d*\\.?\\d*)([\\D]?)', str(string))\n",
    "    lst=[i for i in amount.groups() if i != '']\n",
    "#     if len(lst) != 2:\n",
    "#         return float('NaN')\n",
    "    try:\n",
    "        res=float(lst[0])\n",
    "    except ValueError:\n",
    "        res=float(lst[1])\n",
    "    return res"
   ]
  },
  {
   "cell_type": "code",
   "execution_count": 364,
   "metadata": {},
   "outputs": [],
   "source": [
    "def parse_symbol(string):\n",
    "    amount=re.match(r'([^-\\d\\.]?)(-?\\d*\\.?\\d*)([\\D]?)', str(string))\n",
    "    lst=[i for i in amount.groups() if i != '']\n",
    "#     if len(lst) != 2:\n",
    "#         return float('NaN')\n",
    "    try:\n",
    "        number=float(lst[0])\n",
    "        sign=lst[1]\n",
    "    except ValueError:\n",
    "        sign=lst[0]\n",
    "    return sign"
   ]
  },
  {
   "cell_type": "code",
   "execution_count": 365,
   "metadata": {},
   "outputs": [],
   "source": [
    "def find_currency(string):\n",
    "    currency=re.findall(\"[€$¥£]\",string)\n",
    "    if currency:\n",
    "        symbol=currency[0]\n",
    "        if symbol == \"€\":\n",
    "            return \"Euro\"\n",
    "        elif symbol == \"$\":\n",
    "            return \"USD\"\n",
    "        elif symbol == \"¥\":\n",
    "            return \"RMB\"\n",
    "        elif symbol == \"£\":\n",
    "            return \"Pound\"\n",
    "    else:\n",
    "        print(\"error: can't find currenct symbol in {}\".format(string))"
   ]
  },
  {
   "cell_type": "code",
   "execution_count": 366,
   "metadata": {},
   "outputs": [
    {
     "name": "stdout",
     "output_type": "stream",
     "text": [
      "error: can't find currenct symbol in 465.6\n",
      "error: can't find currenct symbol in 1266.68\n",
      "error: can't find currenct symbol in 829.3\n",
      "error: can't find currenct symbol in 357.78\n",
      "error: can't find currenct symbol in -\n",
      "error: can't find currenct symbol in -\n",
      "error: can't find currenct symbol in -\n",
      "error: can't find currenct symbol in -\n",
      "error: can't find currenct symbol in -\n"
     ]
    }
   ],
   "source": [
    "df[\"currency\"]=df.price.apply(find_currency)"
   ]
  },
  {
   "cell_type": "code",
   "execution_count": 367,
   "metadata": {},
   "outputs": [],
   "source": [
    "df=df[df['price'] != \"465.6\"]\n",
    "df=df[df['price'] != \"1266.68\"]\n",
    "df=df[df['price'] != \"829.3\"]\n",
    "df=df[df['price'] != \"357.78\"]\n",
    "df=df[df['price'] != \"-\"]"
   ]
  },
  {
   "cell_type": "code",
   "execution_count": 368,
   "metadata": {},
   "outputs": [],
   "source": [
    "df['price_amount']=df.price.apply(parse_price)"
   ]
  },
  {
   "cell_type": "code",
   "execution_count": 369,
   "metadata": {},
   "outputs": [],
   "source": [
    "df['price_symbol']=df.price.apply(parse_symbol)"
   ]
  },
  {
   "cell_type": "code",
   "execution_count": 370,
   "metadata": {},
   "outputs": [
    {
     "data": {
      "text/html": [
       "<div>\n",
       "<style scoped>\n",
       "    .dataframe tbody tr th:only-of-type {\n",
       "        vertical-align: middle;\n",
       "    }\n",
       "\n",
       "    .dataframe tbody tr th {\n",
       "        vertical-align: top;\n",
       "    }\n",
       "\n",
       "    .dataframe thead th {\n",
       "        text-align: right;\n",
       "    }\n",
       "</style>\n",
       "<table border=\"1\" class=\"dataframe\">\n",
       "  <thead>\n",
       "    <tr style=\"text-align: right;\">\n",
       "      <th></th>\n",
       "      <th>part</th>\n",
       "      <th>company</th>\n",
       "      <th>country</th>\n",
       "      <th>city</th>\n",
       "      <th>price</th>\n",
       "      <th>date</th>\n",
       "      <th>parsed_date</th>\n",
       "      <th>currency</th>\n",
       "      <th>price_amount</th>\n",
       "      <th>price_symbol</th>\n",
       "    </tr>\n",
       "  </thead>\n",
       "  <tbody>\n",
       "    <tr>\n",
       "      <th>20563</th>\n",
       "      <td>21695-267</td>\n",
       "      <td>Roodel</td>\n",
       "      <td>Portugal</td>\n",
       "      <td>Aranhas</td>\n",
       "      <td>606.37€</td>\n",
       "      <td>2018-12-31 20:48:14</td>\n",
       "      <td>2018-12-31 20:48:14</td>\n",
       "      <td>Euro</td>\n",
       "      <td>606.37</td>\n",
       "      <td>€</td>\n",
       "    </tr>\n",
       "    <tr>\n",
       "      <th>20564</th>\n",
       "      <td>49999-737</td>\n",
       "      <td>Thoughtmix</td>\n",
       "      <td>Portugal</td>\n",
       "      <td>Amadora</td>\n",
       "      <td>828.37€</td>\n",
       "      <td>2018-12-31 21:24:17</td>\n",
       "      <td>2018-12-31 21:24:17</td>\n",
       "      <td>Euro</td>\n",
       "      <td>828.37</td>\n",
       "      <td>€</td>\n",
       "    </tr>\n",
       "    <tr>\n",
       "      <th>20565</th>\n",
       "      <td>52343-025</td>\n",
       "      <td>Brainsphere</td>\n",
       "      <td>Portugal</td>\n",
       "      <td>Braga</td>\n",
       "      <td>686.1€</td>\n",
       "      <td>2018-12-31 21:38:02</td>\n",
       "      <td>2018-12-31 21:38:02</td>\n",
       "      <td>Euro</td>\n",
       "      <td>686.10</td>\n",
       "      <td>€</td>\n",
       "    </tr>\n",
       "    <tr>\n",
       "      <th>20566</th>\n",
       "      <td>49288-0285</td>\n",
       "      <td>Flipstorm</td>\n",
       "      <td>Greece</td>\n",
       "      <td>Athens</td>\n",
       "      <td>1051.08€</td>\n",
       "      <td>2019-02-21 20:05:00</td>\n",
       "      <td>2019-02-21 20:05:00</td>\n",
       "      <td>Euro</td>\n",
       "      <td>1051.08</td>\n",
       "      <td>€</td>\n",
       "    </tr>\n",
       "    <tr>\n",
       "      <th>20567</th>\n",
       "      <td>43419-018</td>\n",
       "      <td>Flipstorm</td>\n",
       "      <td>Greece</td>\n",
       "      <td>Athens</td>\n",
       "      <td>139.56€</td>\n",
       "      <td>2019-05-14 22:48:39</td>\n",
       "      <td>2019-05-14 22:48:39</td>\n",
       "      <td>Euro</td>\n",
       "      <td>139.56</td>\n",
       "      <td>€</td>\n",
       "    </tr>\n",
       "  </tbody>\n",
       "</table>\n",
       "</div>"
      ],
      "text/plain": [
       "             part      company   country     city     price  \\\n",
       "20563   21695-267       Roodel  Portugal  Aranhas   606.37€   \n",
       "20564   49999-737   Thoughtmix  Portugal  Amadora   828.37€   \n",
       "20565   52343-025  Brainsphere  Portugal    Braga    686.1€   \n",
       "20566  49288-0285    Flipstorm    Greece   Athens  1051.08€   \n",
       "20567   43419-018    Flipstorm    Greece   Athens   139.56€   \n",
       "\n",
       "                      date         parsed_date currency  price_amount  \\\n",
       "20563  2018-12-31 20:48:14 2018-12-31 20:48:14     Euro        606.37   \n",
       "20564  2018-12-31 21:24:17 2018-12-31 21:24:17     Euro        828.37   \n",
       "20565  2018-12-31 21:38:02 2018-12-31 21:38:02     Euro        686.10   \n",
       "20566  2019-02-21 20:05:00 2019-02-21 20:05:00     Euro       1051.08   \n",
       "20567  2019-05-14 22:48:39 2019-05-14 22:48:39     Euro        139.56   \n",
       "\n",
       "      price_symbol  \n",
       "20563            €  \n",
       "20564            €  \n",
       "20565            €  \n",
       "20566            €  \n",
       "20567            €  "
      ]
     },
     "execution_count": 370,
     "metadata": {},
     "output_type": "execute_result"
    }
   ],
   "source": [
    "df.tail()"
   ]
  },
  {
   "cell_type": "code",
   "execution_count": 371,
   "metadata": {},
   "outputs": [
    {
     "data": {
      "text/plain": [
       "0"
      ]
     },
     "execution_count": 371,
     "metadata": {},
     "output_type": "execute_result"
    }
   ],
   "source": [
    "df.isnull().sum().sum()"
   ]
  },
  {
   "cell_type": "markdown",
   "metadata": {},
   "source": [
    "---\n",
    "## Part 2: Enriching the data"
   ]
  },
  {
   "cell_type": "markdown",
   "metadata": {},
   "source": [
    "A common task for a data scientists is to combine or enrich data from internal sources with data available from external sources. The purpose of this can be either to fix issues with the data or to make it easier to derive insights from the data.\n",
    "\n",
    "In this part you should enrich your data with data from at least one external source. You may look to part 4 for some  inspiration as to what is required. Your solution should be automated, i.e., you can not ask the reader of your notebook to download any data manually. You should argue why and what you expect to achieve by the enrichments you are doing."
   ]
  },
  {
   "cell_type": "markdown",
   "metadata": {},
   "source": [
    "---\n",
    "### Solution"
   ]
  },
  {
   "cell_type": "code",
   "execution_count": null,
   "metadata": {},
   "outputs": [],
   "source": []
  },
  {
   "cell_type": "markdown",
   "metadata": {},
   "source": [
    "---\n",
    "## Part 3: Creating a database\n",
    "Storing data in a relational database has the advantages that it is persistent, fast to query, and it will be easier access for other employees at Weyland-Yutani.\n",
    "\n",
    "In this part you should:\n",
    "- Create a database and table(s) for the data\n",
    "- Insert data into the tables\n",
    "\n",
    "You may use SQLite locally to do this. You should argue why you choose to store your data the way you do. "
   ]
  },
  {
   "cell_type": "markdown",
   "metadata": {},
   "source": [
    "---\n",
    "### Solution"
   ]
  },
  {
   "cell_type": "code",
   "execution_count": null,
   "metadata": {},
   "outputs": [],
   "source": []
  },
  {
   "cell_type": "markdown",
   "metadata": {},
   "source": [
    "---\n",
    "## Part 4: Analyzing the data\n",
    "You are now ready to analyze the data. Your goal is to gain some actionable business insights to present to your boss. \n",
    "\n",
    "In this part, you should ask some questions and try to answer them based on the data. You should write SQL queries to retrieve the data. For each question, you should state why it is relevant and what you expect to find.\n",
    "\n",
    "To get you started, you should prepare answers to the following questions. You should add more questions.\n",
    "#### Who are the most profitable clients?\n",
    "Knowing which clients that generate the most revenue for the company will assist your boss in distributing customer service ressources.\n",
    "\n",
    "#### Are there any clients for which profit is declining?\n",
    "Declining profit from a specific client may indicate that the client is disatisfied with the product. Gaining a new client is often much more work than retaining one. Early warnings about declining profit may help your boss fighting customer churn.\n",
    "\n",
    "\n",
    "Remember, you are taking this to your new boss, so think about how you present the data."
   ]
  },
  {
   "cell_type": "markdown",
   "metadata": {},
   "source": [
    "---\n",
    "### Solution"
   ]
  },
  {
   "cell_type": "code",
   "execution_count": null,
   "metadata": {},
   "outputs": [],
   "source": []
  },
  {
   "cell_type": "markdown",
   "metadata": {},
   "source": [
    "---\n",
    "## Part 5: Performance\n",
    "Your boss is very impressed with what you have achieved in less than two weeks, and he would like to take your idea of storing the customer and sales data in a relational database to production. However, John is concerned that the solution will not scale. His experience is telling him that you will see many occurrences of the following queries.\n",
    "\n",
    "- Show all sales to company X between time $t_1$ and time $t_2$\n",
    "- Show the latest X sales in the database\n",
    "- Show total sales per company per day\n",
    "\n",
    "Show that Johns concern is not justified."
   ]
  },
  {
   "cell_type": "markdown",
   "metadata": {},
   "source": [
    "---\n",
    "### Solution"
   ]
  },
  {
   "cell_type": "code",
   "execution_count": null,
   "metadata": {},
   "outputs": [],
   "source": []
  },
  {
   "cell_type": "markdown",
   "metadata": {},
   "source": [
    "---"
   ]
  }
 ],
 "metadata": {
  "kernelspec": {
   "display_name": "Python 3",
   "language": "python",
   "name": "python3"
  },
  "language_info": {
   "codemirror_mode": {
    "name": "ipython",
    "version": 3
   },
   "file_extension": ".py",
   "mimetype": "text/x-python",
   "name": "python",
   "nbconvert_exporter": "python",
   "pygments_lexer": "ipython3",
   "version": "3.7.3"
  }
 },
 "nbformat": 4,
 "nbformat_minor": 2
}
